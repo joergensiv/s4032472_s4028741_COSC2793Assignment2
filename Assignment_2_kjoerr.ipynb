{
 "cells": [
  {
   "cell_type": "code",
   "execution_count": 61,
   "metadata": {},
   "outputs": [],
   "source": [
    "import zipfile\n",
    "import pandas as pd\n",
    "import numpy as np\n",
    "import os\n",
    "import matplotlib.pyplot as plt\n",
    "import tensorflow as tf\n",
    "import pydot\n",
    "from sklearn.model_selection import train_test_split\n",
    "from sklearn.metrics import f1_score\n",
    "from PIL import Image\n",
    "\n",
    "with zipfile.ZipFile('./trafficsigns_dataset.zip', 'r') as zip_ref:\n",
    "    zip_ref.extractall('./')"
   ]
  },
  {
   "cell_type": "markdown",
   "metadata": {},
   "source": [
    "# Data handling"
   ]
  },
  {
   "cell_type": "code",
   "execution_count": 62,
   "metadata": {},
   "outputs": [
    {
     "name": "stdout",
     "output_type": "stream",
     "text": [
      "['diamond', 'hex', 'round', 'square', 'triangle']\n"
     ]
    }
   ],
   "source": [
    "#data = pd.read_csv('./CIFAR_Data.csv')\n",
    "dir_list = os.listdir('./trafficsigns_dataset')\n",
    "dir_list.remove('.DS_Store')\n",
    "dir_list.remove('Readme.txt')\n",
    "\n",
    "print(dir_list)\n",
    "path='./trafficsigns_dataset/'\n",
    "arr=[]\n",
    "\n",
    "counter1=1\n",
    "counter2=1\n",
    "\n",
    "\n",
    "for i in dir_list:\n",
    "    dir_listtemp=os.listdir(path+i)\n",
    "    if '.DS_Store'in dir_listtemp:\n",
    "        dir_listtemp.remove('.DS_Store')\n",
    "\n",
    "    for j in dir_listtemp:\n",
    "        dir_listtemp2=os.listdir(path+i+'/'+j)\n",
    "\n",
    "        for k in dir_listtemp2:\n",
    "            arr.append((path+i+'/'+j+'/'+k, counter1, counter2))\n",
    "        counter2+=1\n",
    "    counter1+=1\n",
    "    #counter2+=1\n",
    "\n",
    "data = np.array(arr)\n",
    "                #dtype=[(\"a\", \"str\"), (\"b\", \"i4\"), (\"c\", \"i4\")])\n",
    "df = pd.DataFrame(data, columns=['Image', 'Form', 'Type'])\n",
    "df['Form'] = df['Form'].astype(int)\n",
    "df['Type'] = df['Type'].astype(int)\n",
    "\n",
    "df.to_csv('trafficsigns_data.csv',index=True, index_label='ID' )        \n",
    "            \n",
    " \n",
    "\n",
    "\n"
   ]
  },
  {
   "cell_type": "code",
   "execution_count": 63,
   "metadata": {},
   "outputs": [
    {
     "name": "stdout",
     "output_type": "stream",
     "text": [
      "(3701, 3)\n",
      "(2590, 3)\n",
      "(1111, 3)\n"
     ]
    }
   ],
   "source": [
    "#Datasplit\n",
    "\n",
    "train, val = train_test_split(df, test_size=0.30, random_state=48)\n",
    "print(df.shape)\n",
    "print(train.shape)\n",
    "print(val.shape)"
   ]
  },
  {
   "cell_type": "markdown",
   "metadata": {},
   "source": [
    "# EDA"
   ]
  },
  {
   "cell_type": "code",
   "execution_count": 64,
   "metadata": {},
   "outputs": [
    {
     "data": {
      "image/png": "[encoded data removed]",
      "text/plain": [
       "<Figure size 700x700 with 1 Axes>"
      ]
     },
     "metadata": {},
     "output_type": "display_data"
    },
    {
     "data": {
      "text/html": [
       "<div>\n",
       "<style scoped>\n",
       "    .dataframe tbody tr th:only-of-type {\n",
       "        vertical-align: middle;\n",
       "    }\n",
       "\n",
       "    .dataframe tbody tr th {\n",
       "        vertical-align: top;\n",
       "    }\n",
       "\n",
       "    .dataframe thead th {\n",
       "        text-align: right;\n",
       "    }\n",
       "</style>\n",
       "<table border=\"1\" class=\"dataframe\">\n",
       "  <thead>\n",
       "    <tr style=\"text-align: right;\">\n",
       "      <th></th>\n",
       "      <th>0</th>\n",
       "      <th>1</th>\n",
       "      <th>2</th>\n",
       "      <th>3</th>\n",
       "      <th>4</th>\n",
       "      <th>5</th>\n",
       "      <th>6</th>\n",
       "      <th>7</th>\n",
       "      <th>8</th>\n",
       "      <th>9</th>\n",
       "      <th>10</th>\n",
       "      <th>11</th>\n",
       "      <th>12</th>\n",
       "      <th>13</th>\n",
       "      <th>14</th>\n",
       "      <th>15</th>\n",
       "      <th>16</th>\n",
       "      <th>17</th>\n",
       "      <th>18</th>\n",
       "      <th>19</th>\n",
       "      <th>20</th>\n",
       "      <th>21</th>\n",
       "      <th>22</th>\n",
       "      <th>23</th>\n",
       "      <th>24</th>\n",
       "      <th>25</th>\n",
       "      <th>26</th>\n",
       "      <th>27</th>\n",
       "    </tr>\n",
       "  </thead>\n",
       "  <tbody>\n",
       "    <tr>\n",
       "      <th>0</th>\n",
       "      <td>34</td>\n",
       "      <td>47</td>\n",
       "      <td>40</td>\n",
       "      <td>16</td>\n",
       "      <td>16</td>\n",
       "      <td>18</td>\n",
       "      <td>19</td>\n",
       "      <td>20</td>\n",
       "      <td>25</td>\n",
       "      <td>28</td>\n",
       "      <td>33</td>\n",
       "      <td>45</td>\n",
       "      <td>54</td>\n",
       "      <td>195</td>\n",
       "      <td>210</td>\n",
       "      <td>146</td>\n",
       "      <td>102</td>\n",
       "      <td>105</td>\n",
       "      <td>107</td>\n",
       "      <td>115</td>\n",
       "      <td>110</td>\n",
       "      <td>112</td>\n",
       "      <td>108</td>\n",
       "      <td>111</td>\n",
       "      <td>122</td>\n",
       "      <td>138</td>\n",
       "      <td>146</td>\n",
       "      <td>159</td>\n",
       "    </tr>\n",
       "    <tr>\n",
       "      <th>1</th>\n",
       "      <td>48</td>\n",
       "      <td>45</td>\n",
       "      <td>47</td>\n",
       "      <td>77</td>\n",
       "      <td>86</td>\n",
       "      <td>94</td>\n",
       "      <td>100</td>\n",
       "      <td>114</td>\n",
       "      <td>146</td>\n",
       "      <td>142</td>\n",
       "      <td>130</td>\n",
       "      <td>129</td>\n",
       "      <td>132</td>\n",
       "      <td>146</td>\n",
       "      <td>169</td>\n",
       "      <td>171</td>\n",
       "      <td>150</td>\n",
       "      <td>154</td>\n",
       "      <td>131</td>\n",
       "      <td>118</td>\n",
       "      <td>126</td>\n",
       "      <td>136</td>\n",
       "      <td>136</td>\n",
       "      <td>138</td>\n",
       "      <td>142</td>\n",
       "      <td>141</td>\n",
       "      <td>136</td>\n",
       "      <td>134</td>\n",
       "    </tr>\n",
       "    <tr>\n",
       "      <th>2</th>\n",
       "      <td>59</td>\n",
       "      <td>46</td>\n",
       "      <td>62</td>\n",
       "      <td>109</td>\n",
       "      <td>116</td>\n",
       "      <td>117</td>\n",
       "      <td>123</td>\n",
       "      <td>253</td>\n",
       "      <td>110</td>\n",
       "      <td>100</td>\n",
       "      <td>146</td>\n",
       "      <td>253</td>\n",
       "      <td>225</td>\n",
       "      <td>155</td>\n",
       "      <td>125</td>\n",
       "      <td>128</td>\n",
       "      <td>150</td>\n",
       "      <td>183</td>\n",
       "      <td>214</td>\n",
       "      <td>141</td>\n",
       "      <td>117</td>\n",
       "      <td>118</td>\n",
       "      <td>120</td>\n",
       "      <td>111</td>\n",
       "      <td>104</td>\n",
       "      <td>103</td>\n",
       "      <td>82</td>\n",
       "      <td>80</td>\n",
       "    </tr>\n",
       "    <tr>\n",
       "      <th>3</th>\n",
       "      <td>63</td>\n",
       "      <td>45</td>\n",
       "      <td>76</td>\n",
       "      <td>132</td>\n",
       "      <td>126</td>\n",
       "      <td>134</td>\n",
       "      <td>252</td>\n",
       "      <td>106</td>\n",
       "      <td>205</td>\n",
       "      <td>232</td>\n",
       "      <td>100</td>\n",
       "      <td>66</td>\n",
       "      <td>63</td>\n",
       "      <td>66</td>\n",
       "      <td>66</td>\n",
       "      <td>66</td>\n",
       "      <td>68</td>\n",
       "      <td>66</td>\n",
       "      <td>69</td>\n",
       "      <td>127</td>\n",
       "      <td>158</td>\n",
       "      <td>86</td>\n",
       "      <td>84</td>\n",
       "      <td>90</td>\n",
       "      <td>93</td>\n",
       "      <td>91</td>\n",
       "      <td>87</td>\n",
       "      <td>86</td>\n",
       "    </tr>\n",
       "    <tr>\n",
       "      <th>4</th>\n",
       "      <td>58</td>\n",
       "      <td>46</td>\n",
       "      <td>76</td>\n",
       "      <td>123</td>\n",
       "      <td>114</td>\n",
       "      <td>247</td>\n",
       "      <td>102</td>\n",
       "      <td>255</td>\n",
       "      <td>111</td>\n",
       "      <td>63</td>\n",
       "      <td>64</td>\n",
       "      <td>65</td>\n",
       "      <td>64</td>\n",
       "      <td>65</td>\n",
       "      <td>65</td>\n",
       "      <td>65</td>\n",
       "      <td>67</td>\n",
       "      <td>65</td>\n",
       "      <td>65</td>\n",
       "      <td>66</td>\n",
       "      <td>60</td>\n",
       "      <td>161</td>\n",
       "      <td>111</td>\n",
       "      <td>91</td>\n",
       "      <td>91</td>\n",
       "      <td>96</td>\n",
       "      <td>86</td>\n",
       "      <td>83</td>\n",
       "    </tr>\n",
       "    <tr>\n",
       "      <th>5</th>\n",
       "      <td>50</td>\n",
       "      <td>58</td>\n",
       "      <td>58</td>\n",
       "      <td>93</td>\n",
       "      <td>237</td>\n",
       "      <td>104</td>\n",
       "      <td>247</td>\n",
       "      <td>66</td>\n",
       "      <td>64</td>\n",
       "      <td>65</td>\n",
       "      <td>64</td>\n",
       "      <td>64</td>\n",
       "      <td>63</td>\n",
       "      <td>66</td>\n",
       "      <td>66</td>\n",
       "      <td>66</td>\n",
       "      <td>66</td>\n",
       "      <td>66</td>\n",
       "      <td>66</td>\n",
       "      <td>65</td>\n",
       "      <td>65</td>\n",
       "      <td>68</td>\n",
       "      <td>148</td>\n",
       "      <td>118</td>\n",
       "      <td>93</td>\n",
       "      <td>83</td>\n",
       "      <td>80</td>\n",
       "      <td>90</td>\n",
       "    </tr>\n",
       "    <tr>\n",
       "      <th>6</th>\n",
       "      <td>72</td>\n",
       "      <td>75</td>\n",
       "      <td>86</td>\n",
       "      <td>217</td>\n",
       "      <td>86</td>\n",
       "      <td>250</td>\n",
       "      <td>63</td>\n",
       "      <td>64</td>\n",
       "      <td>64</td>\n",
       "      <td>65</td>\n",
       "      <td>65</td>\n",
       "      <td>64</td>\n",
       "      <td>63</td>\n",
       "      <td>64</td>\n",
       "      <td>66</td>\n",
       "      <td>65</td>\n",
       "      <td>66</td>\n",
       "      <td>66</td>\n",
       "      <td>65</td>\n",
       "      <td>66</td>\n",
       "      <td>64</td>\n",
       "      <td>68</td>\n",
       "      <td>64</td>\n",
       "      <td>137</td>\n",
       "      <td>80</td>\n",
       "      <td>75</td>\n",
       "      <td>80</td>\n",
       "      <td>71</td>\n",
       "    </tr>\n",
       "    <tr>\n",
       "      <th>7</th>\n",
       "      <td>66</td>\n",
       "      <td>84</td>\n",
       "      <td>203</td>\n",
       "      <td>73</td>\n",
       "      <td>252</td>\n",
       "      <td>62</td>\n",
       "      <td>61</td>\n",
       "      <td>65</td>\n",
       "      <td>64</td>\n",
       "      <td>63</td>\n",
       "      <td>65</td>\n",
       "      <td>66</td>\n",
       "      <td>65</td>\n",
       "      <td>65</td>\n",
       "      <td>66</td>\n",
       "      <td>66</td>\n",
       "      <td>67</td>\n",
       "      <td>65</td>\n",
       "      <td>67</td>\n",
       "      <td>66</td>\n",
       "      <td>65</td>\n",
       "      <td>67</td>\n",
       "      <td>64</td>\n",
       "      <td>69</td>\n",
       "      <td>140</td>\n",
       "      <td>80</td>\n",
       "      <td>70</td>\n",
       "      <td>68</td>\n",
       "    </tr>\n",
       "    <tr>\n",
       "      <th>8</th>\n",
       "      <td>94</td>\n",
       "      <td>214</td>\n",
       "      <td>71</td>\n",
       "      <td>171</td>\n",
       "      <td>124</td>\n",
       "      <td>65</td>\n",
       "      <td>67</td>\n",
       "      <td>65</td>\n",
       "      <td>66</td>\n",
       "      <td>68</td>\n",
       "      <td>66</td>\n",
       "      <td>66</td>\n",
       "      <td>67</td>\n",
       "      <td>67</td>\n",
       "      <td>67</td>\n",
       "      <td>68</td>\n",
       "      <td>67</td>\n",
       "      <td>67</td>\n",
       "      <td>67</td>\n",
       "      <td>67</td>\n",
       "      <td>66</td>\n",
       "      <td>68</td>\n",
       "      <td>68</td>\n",
       "      <td>67</td>\n",
       "      <td>131</td>\n",
       "      <td>74</td>\n",
       "      <td>73</td>\n",
       "      <td>79</td>\n",
       "    </tr>\n",
       "    <tr>\n",
       "      <th>9</th>\n",
       "      <td>137</td>\n",
       "      <td>88</td>\n",
       "      <td>63</td>\n",
       "      <td>242</td>\n",
       "      <td>64</td>\n",
       "      <td>68</td>\n",
       "      <td>69</td>\n",
       "      <td>65</td>\n",
       "      <td>67</td>\n",
       "      <td>68</td>\n",
       "      <td>68</td>\n",
       "      <td>68</td>\n",
       "      <td>67</td>\n",
       "      <td>68</td>\n",
       "      <td>68</td>\n",
       "      <td>69</td>\n",
       "      <td>67</td>\n",
       "      <td>68</td>\n",
       "      <td>68</td>\n",
       "      <td>69</td>\n",
       "      <td>69</td>\n",
       "      <td>69</td>\n",
       "      <td>67</td>\n",
       "      <td>68</td>\n",
       "      <td>68</td>\n",
       "      <td>118</td>\n",
       "      <td>70</td>\n",
       "      <td>63</td>\n",
       "    </tr>\n",
       "    <tr>\n",
       "      <th>10</th>\n",
       "      <td>163</td>\n",
       "      <td>71</td>\n",
       "      <td>105</td>\n",
       "      <td>118</td>\n",
       "      <td>68</td>\n",
       "      <td>68</td>\n",
       "      <td>66</td>\n",
       "      <td>67</td>\n",
       "      <td>67</td>\n",
       "      <td>67</td>\n",
       "      <td>68</td>\n",
       "      <td>67</td>\n",
       "      <td>68</td>\n",
       "      <td>69</td>\n",
       "      <td>69</td>\n",
       "      <td>70</td>\n",
       "      <td>71</td>\n",
       "      <td>69</td>\n",
       "      <td>68</td>\n",
       "      <td>69</td>\n",
       "      <td>69</td>\n",
       "      <td>69</td>\n",
       "      <td>71</td>\n",
       "      <td>69</td>\n",
       "      <td>69</td>\n",
       "      <td>147</td>\n",
       "      <td>105</td>\n",
       "      <td>101</td>\n",
       "    </tr>\n",
       "    <tr>\n",
       "      <th>11</th>\n",
       "      <td>162</td>\n",
       "      <td>63</td>\n",
       "      <td>201</td>\n",
       "      <td>71</td>\n",
       "      <td>67</td>\n",
       "      <td>67</td>\n",
       "      <td>70</td>\n",
       "      <td>70</td>\n",
       "      <td>71</td>\n",
       "      <td>71</td>\n",
       "      <td>73</td>\n",
       "      <td>70</td>\n",
       "      <td>71</td>\n",
       "      <td>70</td>\n",
       "      <td>72</td>\n",
       "      <td>72</td>\n",
       "      <td>71</td>\n",
       "      <td>73</td>\n",
       "      <td>73</td>\n",
       "      <td>69</td>\n",
       "      <td>72</td>\n",
       "      <td>72</td>\n",
       "      <td>71</td>\n",
       "      <td>69</td>\n",
       "      <td>69</td>\n",
       "      <td>143</td>\n",
       "      <td>119</td>\n",
       "      <td>110</td>\n",
       "    </tr>\n",
       "    <tr>\n",
       "      <th>12</th>\n",
       "      <td>156</td>\n",
       "      <td>56</td>\n",
       "      <td>193</td>\n",
       "      <td>69</td>\n",
       "      <td>69</td>\n",
       "      <td>91</td>\n",
       "      <td>181</td>\n",
       "      <td>179</td>\n",
       "      <td>183</td>\n",
       "      <td>186</td>\n",
       "      <td>182</td>\n",
       "      <td>191</td>\n",
       "      <td>194</td>\n",
       "      <td>197</td>\n",
       "      <td>200</td>\n",
       "      <td>197</td>\n",
       "      <td>196</td>\n",
       "      <td>181</td>\n",
       "      <td>171</td>\n",
       "      <td>162</td>\n",
       "      <td>163</td>\n",
       "      <td>165</td>\n",
       "      <td>153</td>\n",
       "      <td>72</td>\n",
       "      <td>68</td>\n",
       "      <td>134</td>\n",
       "      <td>145</td>\n",
       "      <td>145</td>\n",
       "    </tr>\n",
       "    <tr>\n",
       "      <th>13</th>\n",
       "      <td>137</td>\n",
       "      <td>53</td>\n",
       "      <td>165</td>\n",
       "      <td>68</td>\n",
       "      <td>70</td>\n",
       "      <td>135</td>\n",
       "      <td>208</td>\n",
       "      <td>210</td>\n",
       "      <td>209</td>\n",
       "      <td>211</td>\n",
       "      <td>210</td>\n",
       "      <td>216</td>\n",
       "      <td>221</td>\n",
       "      <td>222</td>\n",
       "      <td>225</td>\n",
       "      <td>226</td>\n",
       "      <td>218</td>\n",
       "      <td>210</td>\n",
       "      <td>198</td>\n",
       "      <td>187</td>\n",
       "      <td>188</td>\n",
       "      <td>191</td>\n",
       "      <td>194</td>\n",
       "      <td>72</td>\n",
       "      <td>70</td>\n",
       "      <td>125</td>\n",
       "      <td>153</td>\n",
       "      <td>155</td>\n",
       "    </tr>\n",
       "    <tr>\n",
       "      <th>14</th>\n",
       "      <td>141</td>\n",
       "      <td>54</td>\n",
       "      <td>148</td>\n",
       "      <td>69</td>\n",
       "      <td>71</td>\n",
       "      <td>158</td>\n",
       "      <td>206</td>\n",
       "      <td>208</td>\n",
       "      <td>211</td>\n",
       "      <td>208</td>\n",
       "      <td>213</td>\n",
       "      <td>212</td>\n",
       "      <td>221</td>\n",
       "      <td>220</td>\n",
       "      <td>225</td>\n",
       "      <td>225</td>\n",
       "      <td>218</td>\n",
       "      <td>209</td>\n",
       "      <td>193</td>\n",
       "      <td>188</td>\n",
       "      <td>189</td>\n",
       "      <td>190</td>\n",
       "      <td>178</td>\n",
       "      <td>70</td>\n",
       "      <td>72</td>\n",
       "      <td>143</td>\n",
       "      <td>157</td>\n",
       "      <td>149</td>\n",
       "    </tr>\n",
       "    <tr>\n",
       "      <th>15</th>\n",
       "      <td>155</td>\n",
       "      <td>49</td>\n",
       "      <td>146</td>\n",
       "      <td>71</td>\n",
       "      <td>70</td>\n",
       "      <td>149</td>\n",
       "      <td>177</td>\n",
       "      <td>185</td>\n",
       "      <td>186</td>\n",
       "      <td>186</td>\n",
       "      <td>190</td>\n",
       "      <td>193</td>\n",
       "      <td>193</td>\n",
       "      <td>196</td>\n",
       "      <td>199</td>\n",
       "      <td>199</td>\n",
       "      <td>194</td>\n",
       "      <td>186</td>\n",
       "      <td>174</td>\n",
       "      <td>173</td>\n",
       "      <td>178</td>\n",
       "      <td>181</td>\n",
       "      <td>122</td>\n",
       "      <td>72</td>\n",
       "      <td>70</td>\n",
       "      <td>156</td>\n",
       "      <td>141</td>\n",
       "      <td>141</td>\n",
       "    </tr>\n",
       "    <tr>\n",
       "      <th>16</th>\n",
       "      <td>152</td>\n",
       "      <td>49</td>\n",
       "      <td>145</td>\n",
       "      <td>71</td>\n",
       "      <td>70</td>\n",
       "      <td>69</td>\n",
       "      <td>71</td>\n",
       "      <td>69</td>\n",
       "      <td>71</td>\n",
       "      <td>72</td>\n",
       "      <td>71</td>\n",
       "      <td>72</td>\n",
       "      <td>72</td>\n",
       "      <td>71</td>\n",
       "      <td>70</td>\n",
       "      <td>72</td>\n",
       "      <td>72</td>\n",
       "      <td>72</td>\n",
       "      <td>68</td>\n",
       "      <td>71</td>\n",
       "      <td>72</td>\n",
       "      <td>70</td>\n",
       "      <td>74</td>\n",
       "      <td>74</td>\n",
       "      <td>73</td>\n",
       "      <td>162</td>\n",
       "      <td>144</td>\n",
       "      <td>152</td>\n",
       "    </tr>\n",
       "    <tr>\n",
       "      <th>17</th>\n",
       "      <td>138</td>\n",
       "      <td>48</td>\n",
       "      <td>124</td>\n",
       "      <td>72</td>\n",
       "      <td>72</td>\n",
       "      <td>70</td>\n",
       "      <td>71</td>\n",
       "      <td>73</td>\n",
       "      <td>73</td>\n",
       "      <td>74</td>\n",
       "      <td>72</td>\n",
       "      <td>72</td>\n",
       "      <td>75</td>\n",
       "      <td>72</td>\n",
       "      <td>73</td>\n",
       "      <td>75</td>\n",
       "      <td>74</td>\n",
       "      <td>73</td>\n",
       "      <td>74</td>\n",
       "      <td>75</td>\n",
       "      <td>73</td>\n",
       "      <td>74</td>\n",
       "      <td>73</td>\n",
       "      <td>74</td>\n",
       "      <td>103</td>\n",
       "      <td>152</td>\n",
       "      <td>150</td>\n",
       "      <td>147</td>\n",
       "    </tr>\n",
       "    <tr>\n",
       "      <th>18</th>\n",
       "      <td>127</td>\n",
       "      <td>56</td>\n",
       "      <td>70</td>\n",
       "      <td>86</td>\n",
       "      <td>70</td>\n",
       "      <td>73</td>\n",
       "      <td>72</td>\n",
       "      <td>71</td>\n",
       "      <td>71</td>\n",
       "      <td>74</td>\n",
       "      <td>73</td>\n",
       "      <td>73</td>\n",
       "      <td>73</td>\n",
       "      <td>75</td>\n",
       "      <td>73</td>\n",
       "      <td>72</td>\n",
       "      <td>71</td>\n",
       "      <td>73</td>\n",
       "      <td>74</td>\n",
       "      <td>73</td>\n",
       "      <td>72</td>\n",
       "      <td>74</td>\n",
       "      <td>74</td>\n",
       "      <td>77</td>\n",
       "      <td>178</td>\n",
       "      <td>172</td>\n",
       "      <td>168</td>\n",
       "      <td>168</td>\n",
       "    </tr>\n",
       "    <tr>\n",
       "      <th>19</th>\n",
       "      <td>149</td>\n",
       "      <td>76</td>\n",
       "      <td>48</td>\n",
       "      <td>122</td>\n",
       "      <td>74</td>\n",
       "      <td>71</td>\n",
       "      <td>70</td>\n",
       "      <td>71</td>\n",
       "      <td>71</td>\n",
       "      <td>72</td>\n",
       "      <td>71</td>\n",
       "      <td>73</td>\n",
       "      <td>70</td>\n",
       "      <td>71</td>\n",
       "      <td>74</td>\n",
       "      <td>74</td>\n",
       "      <td>73</td>\n",
       "      <td>73</td>\n",
       "      <td>71</td>\n",
       "      <td>73</td>\n",
       "      <td>73</td>\n",
       "      <td>75</td>\n",
       "      <td>76</td>\n",
       "      <td>113</td>\n",
       "      <td>175</td>\n",
       "      <td>179</td>\n",
       "      <td>173</td>\n",
       "      <td>160</td>\n",
       "    </tr>\n",
       "    <tr>\n",
       "      <th>20</th>\n",
       "      <td>174</td>\n",
       "      <td>161</td>\n",
       "      <td>75</td>\n",
       "      <td>78</td>\n",
       "      <td>87</td>\n",
       "      <td>71</td>\n",
       "      <td>72</td>\n",
       "      <td>71</td>\n",
       "      <td>71</td>\n",
       "      <td>72</td>\n",
       "      <td>72</td>\n",
       "      <td>72</td>\n",
       "      <td>72</td>\n",
       "      <td>71</td>\n",
       "      <td>71</td>\n",
       "      <td>72</td>\n",
       "      <td>72</td>\n",
       "      <td>73</td>\n",
       "      <td>73</td>\n",
       "      <td>74</td>\n",
       "      <td>74</td>\n",
       "      <td>75</td>\n",
       "      <td>69</td>\n",
       "      <td>173</td>\n",
       "      <td>177</td>\n",
       "      <td>172</td>\n",
       "      <td>173</td>\n",
       "      <td>177</td>\n",
       "    </tr>\n",
       "    <tr>\n",
       "      <th>21</th>\n",
       "      <td>168</td>\n",
       "      <td>163</td>\n",
       "      <td>152</td>\n",
       "      <td>69</td>\n",
       "      <td>125</td>\n",
       "      <td>71</td>\n",
       "      <td>71</td>\n",
       "      <td>72</td>\n",
       "      <td>71</td>\n",
       "      <td>72</td>\n",
       "      <td>71</td>\n",
       "      <td>72</td>\n",
       "      <td>72</td>\n",
       "      <td>71</td>\n",
       "      <td>74</td>\n",
       "      <td>72</td>\n",
       "      <td>73</td>\n",
       "      <td>71</td>\n",
       "      <td>72</td>\n",
       "      <td>73</td>\n",
       "      <td>74</td>\n",
       "      <td>76</td>\n",
       "      <td>187</td>\n",
       "      <td>177</td>\n",
       "      <td>180</td>\n",
       "      <td>184</td>\n",
       "      <td>183</td>\n",
       "      <td>179</td>\n",
       "    </tr>\n",
       "    <tr>\n",
       "      <th>22</th>\n",
       "      <td>146</td>\n",
       "      <td>151</td>\n",
       "      <td>157</td>\n",
       "      <td>151</td>\n",
       "      <td>69</td>\n",
       "      <td>131</td>\n",
       "      <td>76</td>\n",
       "      <td>73</td>\n",
       "      <td>72</td>\n",
       "      <td>70</td>\n",
       "      <td>71</td>\n",
       "      <td>70</td>\n",
       "      <td>70</td>\n",
       "      <td>72</td>\n",
       "      <td>71</td>\n",
       "      <td>71</td>\n",
       "      <td>71</td>\n",
       "      <td>72</td>\n",
       "      <td>72</td>\n",
       "      <td>72</td>\n",
       "      <td>79</td>\n",
       "      <td>171</td>\n",
       "      <td>169</td>\n",
       "      <td>184</td>\n",
       "      <td>181</td>\n",
       "      <td>173</td>\n",
       "      <td>178</td>\n",
       "      <td>182</td>\n",
       "    </tr>\n",
       "    <tr>\n",
       "      <th>23</th>\n",
       "      <td>152</td>\n",
       "      <td>145</td>\n",
       "      <td>149</td>\n",
       "      <td>149</td>\n",
       "      <td>143</td>\n",
       "      <td>66</td>\n",
       "      <td>111</td>\n",
       "      <td>83</td>\n",
       "      <td>73</td>\n",
       "      <td>72</td>\n",
       "      <td>72</td>\n",
       "      <td>74</td>\n",
       "      <td>71</td>\n",
       "      <td>72</td>\n",
       "      <td>71</td>\n",
       "      <td>73</td>\n",
       "      <td>74</td>\n",
       "      <td>74</td>\n",
       "      <td>75</td>\n",
       "      <td>111</td>\n",
       "      <td>164</td>\n",
       "      <td>164</td>\n",
       "      <td>172</td>\n",
       "      <td>158</td>\n",
       "      <td>174</td>\n",
       "      <td>174</td>\n",
       "      <td>173</td>\n",
       "      <td>176</td>\n",
       "    </tr>\n",
       "    <tr>\n",
       "      <th>24</th>\n",
       "      <td>137</td>\n",
       "      <td>138</td>\n",
       "      <td>137</td>\n",
       "      <td>145</td>\n",
       "      <td>167</td>\n",
       "      <td>138</td>\n",
       "      <td>73</td>\n",
       "      <td>82</td>\n",
       "      <td>118</td>\n",
       "      <td>87</td>\n",
       "      <td>70</td>\n",
       "      <td>73</td>\n",
       "      <td>71</td>\n",
       "      <td>71</td>\n",
       "      <td>73</td>\n",
       "      <td>73</td>\n",
       "      <td>72</td>\n",
       "      <td>88</td>\n",
       "      <td>156</td>\n",
       "      <td>171</td>\n",
       "      <td>177</td>\n",
       "      <td>170</td>\n",
       "      <td>167</td>\n",
       "      <td>178</td>\n",
       "      <td>179</td>\n",
       "      <td>176</td>\n",
       "      <td>184</td>\n",
       "      <td>171</td>\n",
       "    </tr>\n",
       "    <tr>\n",
       "      <th>25</th>\n",
       "      <td>155</td>\n",
       "      <td>153</td>\n",
       "      <td>151</td>\n",
       "      <td>140</td>\n",
       "      <td>146</td>\n",
       "      <td>151</td>\n",
       "      <td>138</td>\n",
       "      <td>114</td>\n",
       "      <td>110</td>\n",
       "      <td>120</td>\n",
       "      <td>141</td>\n",
       "      <td>148</td>\n",
       "      <td>125</td>\n",
       "      <td>120</td>\n",
       "      <td>143</td>\n",
       "      <td>148</td>\n",
       "      <td>146</td>\n",
       "      <td>153</td>\n",
       "      <td>168</td>\n",
       "      <td>167</td>\n",
       "      <td>163</td>\n",
       "      <td>172</td>\n",
       "      <td>171</td>\n",
       "      <td>167</td>\n",
       "      <td>174</td>\n",
       "      <td>175</td>\n",
       "      <td>171</td>\n",
       "      <td>175</td>\n",
       "    </tr>\n",
       "    <tr>\n",
       "      <th>26</th>\n",
       "      <td>167</td>\n",
       "      <td>155</td>\n",
       "      <td>152</td>\n",
       "      <td>157</td>\n",
       "      <td>152</td>\n",
       "      <td>144</td>\n",
       "      <td>144</td>\n",
       "      <td>143</td>\n",
       "      <td>140</td>\n",
       "      <td>155</td>\n",
       "      <td>171</td>\n",
       "      <td>113</td>\n",
       "      <td>91</td>\n",
       "      <td>90</td>\n",
       "      <td>162</td>\n",
       "      <td>159</td>\n",
       "      <td>166</td>\n",
       "      <td>166</td>\n",
       "      <td>177</td>\n",
       "      <td>175</td>\n",
       "      <td>178</td>\n",
       "      <td>169</td>\n",
       "      <td>172</td>\n",
       "      <td>175</td>\n",
       "      <td>175</td>\n",
       "      <td>166</td>\n",
       "      <td>183</td>\n",
       "      <td>181</td>\n",
       "    </tr>\n",
       "    <tr>\n",
       "      <th>27</th>\n",
       "      <td>153</td>\n",
       "      <td>156</td>\n",
       "      <td>154</td>\n",
       "      <td>155</td>\n",
       "      <td>154</td>\n",
       "      <td>158</td>\n",
       "      <td>144</td>\n",
       "      <td>151</td>\n",
       "      <td>152</td>\n",
       "      <td>153</td>\n",
       "      <td>160</td>\n",
       "      <td>115</td>\n",
       "      <td>109</td>\n",
       "      <td>117</td>\n",
       "      <td>158</td>\n",
       "      <td>167</td>\n",
       "      <td>160</td>\n",
       "      <td>162</td>\n",
       "      <td>169</td>\n",
       "      <td>174</td>\n",
       "      <td>164</td>\n",
       "      <td>177</td>\n",
       "      <td>176</td>\n",
       "      <td>173</td>\n",
       "      <td>173</td>\n",
       "      <td>174</td>\n",
       "      <td>167</td>\n",
       "      <td>176</td>\n",
       "    </tr>\n",
       "  </tbody>\n",
       "</table>\n",
       "</div>"
      ],
      "text/plain": [
       "     0    1    2    3    4    5    6    7    8    9    10   11   12   13   14  \\\n",
       "0    34   47   40   16   16   18   19   20   25   28   33   45   54  195  210   \n",
       "1    48   45   47   77   86   94  100  114  146  142  130  129  132  146  169   \n",
       "2    59   46   62  109  116  117  123  253  110  100  146  253  225  155  125   \n",
       "3    63   45   76  132  126  134  252  106  205  232  100   66   63   66   66   \n",
       "4    58   46   76  123  114  247  102  255  111   63   64   65   64   65   65   \n",
       "5    50   58   58   93  237  104  247   66   64   65   64   64   63   66   66   \n",
       "6    72   75   86  217   86  250   63   64   64   65   65   64   63   64   66   \n",
       "7    66   84  203   73  252   62   61   65   64   63   65   66   65   65   66   \n",
       "8    94  214   71  171  124   65   67   65   66   68   66   66   67   67   67   \n",
       "9   137   88   63  242   64   68   69   65   67   68   68   68   67   68   68   \n",
       "10  163   71  105  118   68   68   66   67   67   67   68   67   68   69   69   \n",
       "11  162   63  201   71   67   67   70   70   71   71   73   70   71   70   72   \n",
       "12  156   56  193   69   69   91  181  179  183  186  182  191  194  197  200   \n",
       "13  137   53  165   68   70  135  208  210  209  211  210  216  221  222  225   \n",
       "14  141   54  148   69   71  158  206  208  211  208  213  212  221  220  225   \n",
       "15  155   49  146   71   70  149  177  185  186  186  190  193  193  196  199   \n",
       "16  152   49  145   71   70   69   71   69   71   72   71   72   72   71   70   \n",
       "17  138   48  124   72   72   70   71   73   73   74   72   72   75   72   73   \n",
       "18  127   56   70   86   70   73   72   71   71   74   73   73   73   75   73   \n",
       "19  149   76   48  122   74   71   70   71   71   72   71   73   70   71   74   \n",
       "20  174  161   75   78   87   71   72   71   71   72   72   72   72   71   71   \n",
       "21  168  163  152   69  125   71   71   72   71   72   71   72   72   71   74   \n",
       "22  146  151  157  151   69  131   76   73   72   70   71   70   70   72   71   \n",
       "23  152  145  149  149  143   66  111   83   73   72   72   74   71   72   71   \n",
       "24  137  138  137  145  167  138   73   82  118   87   70   73   71   71   73   \n",
       "25  155  153  151  140  146  151  138  114  110  120  141  148  125  120  143   \n",
       "26  167  155  152  157  152  144  144  143  140  155  171  113   91   90  162   \n",
       "27  153  156  154  155  154  158  144  151  152  153  160  115  109  117  158   \n",
       "\n",
       "     15   16   17   18   19   20   21   22   23   24   25   26   27  \n",
       "0   146  102  105  107  115  110  112  108  111  122  138  146  159  \n",
       "1   171  150  154  131  118  126  136  136  138  142  141  136  134  \n",
       "2   128  150  183  214  141  117  118  120  111  104  103   82   80  \n",
       "3    66   68   66   69  127  158   86   84   90   93   91   87   86  \n",
       "4    65   67   65   65   66   60  161  111   91   91   96   86   83  \n",
       "5    66   66   66   66   65   65   68  148  118   93   83   80   90  \n",
       "6    65   66   66   65   66   64   68   64  137   80   75   80   71  \n",
       "7    66   67   65   67   66   65   67   64   69  140   80   70   68  \n",
       "8    68   67   67   67   67   66   68   68   67  131   74   73   79  \n",
       "9    69   67   68   68   69   69   69   67   68   68  118   70   63  \n",
       "10   70   71   69   68   69   69   69   71   69   69  147  105  101  \n",
       "11   72   71   73   73   69   72   72   71   69   69  143  119  110  \n",
       "12  197  196  181  171  162  163  165  153   72   68  134  145  145  \n",
       "13  226  218  210  198  187  188  191  194   72   70  125  153  155  \n",
       "14  225  218  209  193  188  189  190  178   70   72  143  157  149  \n",
       "15  199  194  186  174  173  178  181  122   72   70  156  141  141  \n",
       "16   72   72   72   68   71   72   70   74   74   73  162  144  152  \n",
       "17   75   74   73   74   75   73   74   73   74  103  152  150  147  \n",
       "18   72   71   73   74   73   72   74   74   77  178  172  168  168  \n",
       "19   74   73   73   71   73   73   75   76  113  175  179  173  160  \n",
       "20   72   72   73   73   74   74   75   69  173  177  172  173  177  \n",
       "21   72   73   71   72   73   74   76  187  177  180  184  183  179  \n",
       "22   71   71   72   72   72   79  171  169  184  181  173  178  182  \n",
       "23   73   74   74   75  111  164  164  172  158  174  174  173  176  \n",
       "24   73   72   88  156  171  177  170  167  178  179  176  184  171  \n",
       "25  148  146  153  168  167  163  172  171  167  174  175  171  175  \n",
       "26  159  166  166  177  175  178  169  172  175  175  166  183  181  \n",
       "27  167  160  162  169  174  164  177  176  173  173  174  167  176  "
      ]
     },
     "metadata": {},
     "output_type": "display_data"
    }
   ],
   "source": [
    "plt.figure(figsize=[7, 7])\n",
    "plt.imshow(Image.open(df['Image'][750]), cmap='gray')\n",
    "#plt.title('Digit: %i; Resolution (pixels): %dx%d' % (df3['Image'][10], *df3['Image'][10].size()), fontsize=20)\n",
    "plt.show()\n",
    "#What the computer \"sees\",  pixel values indicate color (0=white to 255=black)\n",
    "with pd.option_context('display.max_rows', 100, 'display.max_columns', 500):\n",
    "    display(pd.DataFrame(np.asarray(Image.open(df['Image'][750]))))"
   ]
  },
  {
   "cell_type": "code",
   "execution_count": 65,
   "metadata": {},
   "outputs": [
    {
     "data": {
      "text/html": [
       "<div>\n",
       "<style scoped>\n",
       "    .dataframe tbody tr th:only-of-type {\n",
       "        vertical-align: middle;\n",
       "    }\n",
       "\n",
       "    .dataframe tbody tr th {\n",
       "        vertical-align: top;\n",
       "    }\n",
       "\n",
       "    .dataframe thead th {\n",
       "        text-align: right;\n",
       "    }\n",
       "</style>\n",
       "<table border=\"1\" class=\"dataframe\">\n",
       "  <thead>\n",
       "    <tr style=\"text-align: right;\">\n",
       "      <th></th>\n",
       "      <th>Form</th>\n",
       "      <th>Type</th>\n",
       "    </tr>\n",
       "  </thead>\n",
       "  <tbody>\n",
       "    <tr>\n",
       "      <th>count</th>\n",
       "      <td>2590.000000</td>\n",
       "      <td>2590.000000</td>\n",
       "    </tr>\n",
       "    <tr>\n",
       "      <th>mean</th>\n",
       "      <td>3.523552</td>\n",
       "      <td>9.352510</td>\n",
       "    </tr>\n",
       "    <tr>\n",
       "      <th>std</th>\n",
       "      <td>1.112113</td>\n",
       "      <td>5.071873</td>\n",
       "    </tr>\n",
       "    <tr>\n",
       "      <th>min</th>\n",
       "      <td>1.000000</td>\n",
       "      <td>1.000000</td>\n",
       "    </tr>\n",
       "    <tr>\n",
       "      <th>25%</th>\n",
       "      <td>3.000000</td>\n",
       "      <td>5.000000</td>\n",
       "    </tr>\n",
       "    <tr>\n",
       "      <th>50%</th>\n",
       "      <td>3.000000</td>\n",
       "      <td>9.000000</td>\n",
       "    </tr>\n",
       "    <tr>\n",
       "      <th>75%</th>\n",
       "      <td>4.000000</td>\n",
       "      <td>14.000000</td>\n",
       "    </tr>\n",
       "    <tr>\n",
       "      <th>max</th>\n",
       "      <td>5.000000</td>\n",
       "      <td>16.000000</td>\n",
       "    </tr>\n",
       "  </tbody>\n",
       "</table>\n",
       "</div>"
      ],
      "text/plain": [
       "              Form         Type\n",
       "count  2590.000000  2590.000000\n",
       "mean      3.523552     9.352510\n",
       "std       1.112113     5.071873\n",
       "min       1.000000     1.000000\n",
       "25%       3.000000     5.000000\n",
       "50%       3.000000     9.000000\n",
       "75%       4.000000    14.000000\n",
       "max       5.000000    16.000000"
      ]
     },
     "execution_count": 65,
     "metadata": {},
     "output_type": "execute_result"
    }
   ],
   "source": [
    "train.describe()"
   ]
  },
  {
   "cell_type": "code",
   "execution_count": 66,
   "metadata": {},
   "outputs": [
    {
     "name": "stdout",
     "output_type": "stream",
     "text": [
      "[202, 31, 1207, 509, 641]\n",
      "[202, 31, 198, 88, 270, 151, 75, 208, 133, 84, 152, 72, 87, 198, 164, 477]\n"
     ]
    },
    {
     "data": {
      "text/plain": [
       "([0, 1, 2, 3, 4, 5, 6, 7, 8, 9, 10, 11, 12, 13, 14, 15],\n",
       " [Text(0, 0, 'rightofway'),\n",
       "  Text(1, 0, 'stop'),\n",
       "  Text(2, 0, 'bicycle'),\n",
       "  Text(3, 0, 'limitedtraffic'),\n",
       "  Text(4, 0, 'noentry'),\n",
       "  Text(5, 0, 'noparking'),\n",
       "  Text(6, 0, 'roundabout'),\n",
       "  Text(7, 0, 'speed'),\n",
       "  Text(8, 0, 'trafficdirective'),\n",
       "  Text(9, 0, 'traveldirection'),\n",
       "  Text(10, 0, 'continue'),\n",
       "  Text(11, 0, 'crossing'),\n",
       "  Text(12, 0, 'laneend'),\n",
       "  Text(13, 0, 'parking'),\n",
       "  Text(14, 0, 'giveway'),\n",
       "  Text(15, 0, 'warning')])"
      ]
     },
     "execution_count": 66,
     "metadata": {},
     "output_type": "execute_result"
    },
    {
     "data": {
      "image/png": "[encoded data removed]",
      "text/plain": [
       "<Figure size 500x500 with 1 Axes>"
      ]
     },
     "metadata": {},
     "output_type": "display_data"
    },
    {
     "data": {
      "image/png": "[encoded data removed]",
      "text/plain": [
       "<Figure size 1000x1000 with 1 Axes>"
      ]
     },
     "metadata": {},
     "output_type": "display_data"
    }
   ],
   "source": [
    "arrForm=[]\n",
    "npType=train['Form'].to_numpy()\n",
    "for i in range(5):\n",
    "    a=np.count_nonzero(npType==i+1)\n",
    "    arrForm.append(a)\n",
    "print(arrForm)\n",
    "\n",
    "arrTypeTrain=[]\n",
    "npType=train['Type'].to_numpy()\n",
    "for i in range(16):\n",
    "    a=np.count_nonzero(npType==i+1)\n",
    "    arrTypeTrain.append(a)\n",
    "print(arrTypeTrain)\n",
    "Forms=['diamond', 'hex', 'round', 'square', 'triangle']\n",
    "Types=['rightofway', 'stop', 'bicycle', 'limitedtraffic', 'noentry', \n",
    "              'noparking', 'roundabout', 'speed', 'trafficdirective', \n",
    "              'traveldirection', 'continue', 'crossing', 'laneend', 'parking', \n",
    "              'giveway', 'warning']\n",
    "\n",
    "plt.figure(figsize=(5,5))\n",
    "plt.bar(Forms, arrForm)\n",
    "\n",
    "plt.figure(figsize=(10,10))\n",
    "plt.bar(Types, arrTypeTrain)\n",
    "plt.xticks(rotation=45)"
   ]
  },
  {
   "cell_type": "code",
   "execution_count": 67,
   "metadata": {},
   "outputs": [
    {
     "name": "stdout",
     "output_type": "stream",
     "text": [
      "[80, 12, 553, 180, 286]\n",
      "[16 15  5 ... 14 16  6]\n",
      "6\n",
      "[80, 12, 87, 37, 105, 91, 23, 108, 62, 40, 48, 23, 31, 78, 67, 219]\n"
     ]
    },
    {
     "data": {
      "text/plain": [
       "([0, 1, 2, 3, 4, 5, 6, 7, 8, 9, 10, 11, 12, 13, 14, 15],\n",
       " [Text(0, 0, 'rightofway'),\n",
       "  Text(1, 0, 'stop'),\n",
       "  Text(2, 0, 'bicycle'),\n",
       "  Text(3, 0, 'limitedtraffic'),\n",
       "  Text(4, 0, 'noentry'),\n",
       "  Text(5, 0, 'noparking'),\n",
       "  Text(6, 0, 'roundabout'),\n",
       "  Text(7, 0, 'speed'),\n",
       "  Text(8, 0, 'trafficdirective'),\n",
       "  Text(9, 0, 'traveldirection'),\n",
       "  Text(10, 0, 'continue'),\n",
       "  Text(11, 0, 'crossing'),\n",
       "  Text(12, 0, 'laneend'),\n",
       "  Text(13, 0, 'parking'),\n",
       "  Text(14, 0, 'giveway'),\n",
       "  Text(15, 0, 'warning')])"
      ]
     },
     "execution_count": 67,
     "metadata": {},
     "output_type": "execute_result"
    },
    {
     "data": {
      "image/png": "[encoded data removed]",
      "text/plain": [
       "<Figure size 500x500 with 1 Axes>"
      ]
     },
     "metadata": {},
     "output_type": "display_data"
    },
    {
     "data": {
      "image/png": "[encoded data removed]",
      "text/plain": [
       "<Figure size 1000x1000 with 1 Axes>"
      ]
     },
     "metadata": {},
     "output_type": "display_data"
    }
   ],
   "source": [
    "arrFormVal=[]\n",
    "npType=val['Form'].to_numpy()\n",
    "for i in range(5):\n",
    "    a=np.count_nonzero(npType==i+1)\n",
    "    arrFormVal.append(a)\n",
    "print(arrFormVal)\n",
    "\n",
    "arrTypeVal=[]\n",
    "npType=val['Type'].to_numpy()\n",
    "print(npType)\n",
    "print(npType[-1])\n",
    "for i in range(16):\n",
    "    a=np.count_nonzero(npType==i+1)\n",
    "    arrTypeVal.append(a)\n",
    "print(arrTypeVal)\n",
    "\n",
    "plt.figure(figsize=(5,5))\n",
    "plt.bar(Forms, arrFormVal)\n",
    "\n",
    "plt.figure(figsize=(10,10))\n",
    "plt.bar(Types, arrTypeVal)\n",
    "plt.xticks(rotation=45)"
   ]
  },
  {
   "cell_type": "code",
   "execution_count": 126,
   "metadata": {},
   "outputs": [
    {
     "data": {
      "text/plain": [
       "<BarContainer object of 5 artists>"
      ]
     },
     "execution_count": 126,
     "metadata": {},
     "output_type": "execute_result"
    },
    {
     "data": {
      "image/png": "[encoded data removed]",
      "text/plain": [
       "<Figure size 500x500 with 1 Axes>"
      ]
     },
     "metadata": {},
     "output_type": "display_data"
    }
   ],
   "source": [
    "plt.figure(figsize=(5,5))\n",
    "plt.bar(Forms, arrForm)\n",
    "plt.bar(Forms, arrFormVal)\n",
    "\n"
   ]
  },
  {
   "cell_type": "code",
   "execution_count": 69,
   "metadata": {},
   "outputs": [
    {
     "name": "stdout",
     "output_type": "stream",
     "text": [
      "(202,)\n",
      "[202]\n",
      "(31,)\n",
      "[31]\n",
      "(1207,)\n",
      "[198, 88, 270, 151, 75, 208, 133, 84]\n",
      "(509,)\n",
      "[152, 72, 87, 198]\n",
      "(641,)\n",
      "[164, 477]\n"
     ]
    },
    {
     "data": {
      "text/plain": [
       "Text(0.5, 1.0, 'Triangle')"
      ]
     },
     "execution_count": 69,
     "metadata": {},
     "output_type": "execute_result"
    },
    {
     "data": {
      "image/png": "[encoded data removed]",
      "text/plain": [
       "<Figure size 1000x1000 with 5 Axes>"
      ]
     },
     "metadata": {},
     "output_type": "display_data"
    }
   ],
   "source": [
    "plt.figure(figsize=(10,10))\n",
    "a = train[train[\"Form\"]==1]\n",
    "\n",
    "arrType=[]\n",
    "npType=a['Type'].to_numpy()\n",
    "print(npType.shape)\n",
    "for i in range(1,2):\n",
    "    b=np.count_nonzero(npType==i)\n",
    "    arrType.append(b)\n",
    "\n",
    "print(arrType)\n",
    "plt.subplot(2,3,1)\n",
    "plt.bar(Types[0:1], arrType)\n",
    "plt.xticks(rotation=90)\n",
    "plt.title('Diamond')\n",
    "\n",
    "a = train[train[\"Form\"]==2]\n",
    "\n",
    "arrType=[]\n",
    "npType=a['Type'].to_numpy()\n",
    "print(npType.shape)\n",
    "for i in range(2,3):\n",
    "    b=np.count_nonzero(npType==i)\n",
    "    arrType.append(b)\n",
    "\n",
    "print(arrType)\n",
    "plt.subplot(2,3,2)\n",
    "plt.bar(Types[1:2], arrType)\n",
    "plt.xticks(rotation=90)\n",
    "plt.title('Hex')\n",
    "\n",
    "a = train[train[\"Form\"]==3]\n",
    "\n",
    "arrType=[]\n",
    "npType=a['Type'].to_numpy()\n",
    "print(npType.shape)\n",
    "for i in range(3,11):\n",
    "    b=np.count_nonzero(npType==i)\n",
    "    arrType.append(b)\n",
    "\n",
    "print(arrType)\n",
    "plt.subplot(2,3,3)\n",
    "plt.bar(Types[2:10], arrType)\n",
    "plt.xticks(rotation=90)\n",
    "plt.title('Round')\n",
    "\n",
    "\n",
    "a = train[train[\"Form\"]==4]\n",
    "\n",
    "arrType=[]\n",
    "npType=a['Type'].to_numpy()\n",
    "print(npType.shape)\n",
    "for i in range(11,15):\n",
    "    b=np.count_nonzero(npType==i)\n",
    "    arrType.append(b)\n",
    "\n",
    "print(arrType)\n",
    "plt.subplot(2,3,4)\n",
    "plt.bar(Types[10:14], arrType)\n",
    "plt.xticks(rotation=90)\n",
    "plt.title('Square')\n",
    "\n",
    "\n",
    "a = train[train[\"Form\"]==5]\n",
    "\n",
    "arrType=[]\n",
    "npType=a['Type'].to_numpy()\n",
    "print(npType.shape)\n",
    "for i in range(15,17):\n",
    "    b=np.count_nonzero(npType==i)\n",
    "    arrType.append(b)\n",
    "\n",
    "print(arrType)\n",
    "plt.subplot(2,3,5)\n",
    "plt.bar(Types[14:], arrType)\n",
    "plt.xticks(rotation=90)\n",
    "plt.title('Triangle')\n"
   ]
  },
  {
   "cell_type": "markdown",
   "metadata": {},
   "source": [
    "# Model developement\n",
    " - In multiclass classification, a natural measure of performance is the accurace, which is the chosen performence metric for these models\n",
    " - Due to label imbalance (EDA), the accuracy may not be as valuable on its own. Therefore, the F1 score will be used together with the accuracy(Kilde: https://www.kaggle.com/code/nkitgupta/evaluation-metrics-for-multi-class-classification). \n",
    " - We set our goal to an accuracy of 80%\n",
    " - For a traditional NN, an accuracy of 50% is more realistic (Kilde: lab 6)\n",
    "        "
   ]
  },
  {
   "cell_type": "markdown",
   "metadata": {},
   "source": [
    "### Performance metric "
   ]
  },
  {
   "cell_type": "code",
   "execution_count": 70,
   "metadata": {},
   "outputs": [],
   "source": [
    "def get_f1_scores(clf, train_X, train_y, val_X, val_y):\n",
    "    train_pred = clf.predict(train_X)\n",
    "    val_pred = clf.predict(val_X)\n",
    "    \n",
    "    train_f1 = f1_score(train_y, train_pred, average='macro')\n",
    "    val_f1 = f1_score(val_y, val_pred, average='macro')\n",
    "    \n",
    "    return train_f1, val_f1"
   ]
  },
  {
   "cell_type": "code",
   "execution_count": 71,
   "metadata": {},
   "outputs": [],
   "source": [
    "def plot_learning_curve(train_loss, val_loss, train_metric, val_metric, metric_name='Accuracy'):\n",
    "    plt.figure(figsize=(10,5))\n",
    "    \n",
    "    plt.subplot(1,2,1)\n",
    "    plt.plot(train_loss, 'r--')\n",
    "    plt.plot(val_loss, 'b--')\n",
    "    plt.xlabel(\"epochs\")\n",
    "    plt.ylabel(\"Loss\")\n",
    "    plt.legend(['train', 'val'], loc='upper left')\n",
    "\n",
    "    plt.subplot(1,2,2)\n",
    "    plt.plot(train_metric, 'r--')\n",
    "    plt.plot(val_metric, 'b--')\n",
    "    plt.xlabel(\"epochs\")\n",
    "    plt.ylabel(metric_name)\n",
    "    plt.legend(['train', 'val'], loc='upper left')\n",
    "\n",
    "    plt.show()"
   ]
  },
  {
   "cell_type": "markdown",
   "metadata": {},
   "source": [
    "### Baseline model 1"
   ]
  },
  {
   "cell_type": "code",
   "execution_count": 72,
   "metadata": {},
   "outputs": [
    {
     "data": {
      "text/html": [
       "<div>\n",
       "<style scoped>\n",
       "    .dataframe tbody tr th:only-of-type {\n",
       "        vertical-align: middle;\n",
       "    }\n",
       "\n",
       "    .dataframe tbody tr th {\n",
       "        vertical-align: top;\n",
       "    }\n",
       "\n",
       "    .dataframe thead th {\n",
       "        text-align: right;\n",
       "    }\n",
       "</style>\n",
       "<table border=\"1\" class=\"dataframe\">\n",
       "  <thead>\n",
       "    <tr style=\"text-align: right;\">\n",
       "      <th></th>\n",
       "      <th>Image</th>\n",
       "      <th>Form</th>\n",
       "    </tr>\n",
       "  </thead>\n",
       "  <tbody>\n",
       "    <tr>\n",
       "      <th>1319</th>\n",
       "      <td>./trafficsigns_dataset/round/noparking/01737_0...</td>\n",
       "      <td>3</td>\n",
       "    </tr>\n",
       "    <tr>\n",
       "      <th>3269</th>\n",
       "      <td>./trafficsigns_dataset/triangle/warning/00573_...</td>\n",
       "      <td>5</td>\n",
       "    </tr>\n",
       "    <tr>\n",
       "      <th>2259</th>\n",
       "      <td>./trafficsigns_dataset/square/continue/01669_0...</td>\n",
       "      <td>4</td>\n",
       "    </tr>\n",
       "    <tr>\n",
       "      <th>2886</th>\n",
       "      <td>./trafficsigns_dataset/triangle/giveway/01001_...</td>\n",
       "      <td>5</td>\n",
       "    </tr>\n",
       "  </tbody>\n",
       "</table>\n",
       "</div>"
      ],
      "text/plain": [
       "                                                  Image  Form\n",
       "1319  ./trafficsigns_dataset/round/noparking/01737_0...     3\n",
       "3269  ./trafficsigns_dataset/triangle/warning/00573_...     5\n",
       "2259  ./trafficsigns_dataset/square/continue/01669_0...     4\n",
       "2886  ./trafficsigns_dataset/triangle/giveway/01001_...     5"
      ]
     },
     "execution_count": 72,
     "metadata": {},
     "output_type": "execute_result"
    }
   ],
   "source": [
    "#Preparing the dataset for model 1: input image, output form\n",
    "train_1 = train.drop(['Type'], axis=1)\n",
    "val_1 = val.drop(['Type'], axis=1)\n",
    "\n",
    "train_1.head(4)"
   ]
  },
  {
   "cell_type": "code",
   "execution_count": 73,
   "metadata": {},
   "outputs": [
    {
     "name": "stderr",
     "output_type": "stream",
     "text": [
      "C:\\Users\\anyone\\anaconda3\\Lib\\site-packages\\keras\\src\\layers\\reshaping\\flatten.py:37: UserWarning: Do not pass an `input_shape`/`input_dim` argument to a layer. When using Sequential models, prefer using an `Input(shape)` object as the first layer in the model instead.\n",
      "  super().__init__(**kwargs)\n"
     ]
    },
    {
     "data": {
      "text/html": [
       "<pre style=\"white-space:pre;overflow-x:auto;line-height:normal;font-family:Menlo,'DejaVu Sans Mono',consolas,'Courier New',monospace\"><span style=\"font-weight: bold\">Model: \"sequential\"</span>\n",
       "</pre>\n"
      ],
      "text/plain": [
       "\u001b[1mModel: \"sequential\"\u001b[0m\n"
      ]
     },
     "metadata": {},
     "output_type": "display_data"
    },
    {
     "data": {
      "text/html": [
       "<pre style=\"white-space:pre;overflow-x:auto;line-height:normal;font-family:Menlo,'DejaVu Sans Mono',consolas,'Courier New',monospace\">┏━━━━━━━━━━━━━━━━━━━━━━━━━━━━━━━━━━━━━━┳━━━━━━━━━━━━━━━━━━━━━━━━━━━━━┳━━━━━━━━━━━━━━━━━┓\n",
       "┃<span style=\"font-weight: bold\"> Layer (type)                         </span>┃<span style=\"font-weight: bold\"> Output Shape                </span>┃<span style=\"font-weight: bold\">         Param # </span>┃\n",
       "┡━━━━━━━━━━━━━━━━━━━━━━━━━━━━━━━━━━━━━━╇━━━━━━━━━━━━━━━━━━━━━━━━━━━━━╇━━━━━━━━━━━━━━━━━┩\n",
       "│ flatten (<span style=\"color: #0087ff; text-decoration-color: #0087ff\">Flatten</span>)                    │ (<span style=\"color: #00d7ff; text-decoration-color: #00d7ff\">None</span>, <span style=\"color: #00af00; text-decoration-color: #00af00\">2352</span>)                │               <span style=\"color: #00af00; text-decoration-color: #00af00\">0</span> │\n",
       "├──────────────────────────────────────┼─────────────────────────────┼─────────────────┤\n",
       "│ dense (<span style=\"color: #0087ff; text-decoration-color: #0087ff\">Dense</span>)                        │ (<span style=\"color: #00d7ff; text-decoration-color: #00d7ff\">None</span>, <span style=\"color: #00af00; text-decoration-color: #00af00\">256</span>)                 │         <span style=\"color: #00af00; text-decoration-color: #00af00\">602,368</span> │\n",
       "├──────────────────────────────────────┼─────────────────────────────┼─────────────────┤\n",
       "│ dense_1 (<span style=\"color: #0087ff; text-decoration-color: #0087ff\">Dense</span>)                      │ (<span style=\"color: #00d7ff; text-decoration-color: #00d7ff\">None</span>, <span style=\"color: #00af00; text-decoration-color: #00af00\">5</span>)                   │           <span style=\"color: #00af00; text-decoration-color: #00af00\">1,285</span> │\n",
       "└──────────────────────────────────────┴─────────────────────────────┴─────────────────┘\n",
       "</pre>\n"
      ],
      "text/plain": [
       "┏━━━━━━━━━━━━━━━━━━━━━━━━━━━━━━━━━━━━━━┳━━━━━━━━━━━━━━━━━━━━━━━━━━━━━┳━━━━━━━━━━━━━━━━━┓\n",
       "┃\u001b[1m \u001b[0m\u001b[1mLayer (type)                        \u001b[0m\u001b[1m \u001b[0m┃\u001b[1m \u001b[0m\u001b[1mOutput Shape               \u001b[0m\u001b[1m \u001b[0m┃\u001b[1m \u001b[0m\u001b[1m        Param #\u001b[0m\u001b[1m \u001b[0m┃\n",
       "┡━━━━━━━━━━━━━━━━━━━━━━━━━━━━━━━━━━━━━━╇━━━━━━━━━━━━━━━━━━━━━━━━━━━━━╇━━━━━━━━━━━━━━━━━┩\n",
       "│ flatten (\u001b[38;5;33mFlatten\u001b[0m)                    │ (\u001b[38;5;45mNone\u001b[0m, \u001b[38;5;34m2352\u001b[0m)                │               \u001b[38;5;34m0\u001b[0m │\n",
       "├──────────────────────────────────────┼─────────────────────────────┼─────────────────┤\n",
       "│ dense (\u001b[38;5;33mDense\u001b[0m)                        │ (\u001b[38;5;45mNone\u001b[0m, \u001b[38;5;34m256\u001b[0m)                 │         \u001b[38;5;34m602,368\u001b[0m │\n",
       "├──────────────────────────────────────┼─────────────────────────────┼─────────────────┤\n",
       "│ dense_1 (\u001b[38;5;33mDense\u001b[0m)                      │ (\u001b[38;5;45mNone\u001b[0m, \u001b[38;5;34m5\u001b[0m)                   │           \u001b[38;5;34m1,285\u001b[0m │\n",
       "└──────────────────────────────────────┴─────────────────────────────┴─────────────────┘\n"
      ]
     },
     "metadata": {},
     "output_type": "display_data"
    },
    {
     "data": {
      "text/html": [
       "<pre style=\"white-space:pre;overflow-x:auto;line-height:normal;font-family:Menlo,'DejaVu Sans Mono',consolas,'Courier New',monospace\"><span style=\"font-weight: bold\"> Total params: </span><span style=\"color: #00af00; text-decoration-color: #00af00\">603,653</span> (2.30 MB)\n",
       "</pre>\n"
      ],
      "text/plain": [
       "\u001b[1m Total params: \u001b[0m\u001b[38;5;34m603,653\u001b[0m (2.30 MB)\n"
      ]
     },
     "metadata": {},
     "output_type": "display_data"
    },
    {
     "data": {
      "text/html": [
       "<pre style=\"white-space:pre;overflow-x:auto;line-height:normal;font-family:Menlo,'DejaVu Sans Mono',consolas,'Courier New',monospace\"><span style=\"font-weight: bold\"> Trainable params: </span><span style=\"color: #00af00; text-decoration-color: #00af00\">603,653</span> (2.30 MB)\n",
       "</pre>\n"
      ],
      "text/plain": [
       "\u001b[1m Trainable params: \u001b[0m\u001b[38;5;34m603,653\u001b[0m (2.30 MB)\n"
      ]
     },
     "metadata": {},
     "output_type": "display_data"
    },
    {
     "data": {
      "text/html": [
       "<pre style=\"white-space:pre;overflow-x:auto;line-height:normal;font-family:Menlo,'DejaVu Sans Mono',consolas,'Courier New',monospace\"><span style=\"font-weight: bold\"> Non-trainable params: </span><span style=\"color: #00af00; text-decoration-color: #00af00\">0</span> (0.00 B)\n",
       "</pre>\n"
      ],
      "text/plain": [
       "\u001b[1m Non-trainable params: \u001b[0m\u001b[38;5;34m0\u001b[0m (0.00 B)\n"
      ]
     },
     "metadata": {},
     "output_type": "display_data"
    }
   ],
   "source": [
    "INPUT_DIMENSION = (28,28,3)\n",
    "HIDDEN_LAYER_DIMENSION = 256\n",
    "OUTPUT_CLASSES = 5\n",
    "\n",
    "\n",
    "base_model = tf.keras.Sequential([\n",
    "    tf.keras.layers.Flatten(input_shape=INPUT_DIMENSION),\n",
    "    tf.keras.layers.Dense(HIDDEN_LAYER_DIMENSION, activation='sigmoid'),\n",
    "    tf.keras.layers.Dense(OUTPUT_CLASSES)\n",
    "])\n",
    "\n",
    "base_model.summary()"
   ]
  },
  {
   "cell_type": "code",
   "execution_count": 74,
   "metadata": {},
   "outputs": [],
   "source": [
    "\n",
    "#tf.keras.utils.plot_model(base_model, show_shapes=True)"
   ]
  },
  {
   "cell_type": "code",
   "execution_count": 75,
   "metadata": {},
   "outputs": [],
   "source": [
    "base_model.compile(optimizer='SGD', loss=tf.keras.losses.CategoricalCrossentropy(from_logits=True),\n",
    "                   metrics=['f1_score','categorical_accuracy'])"
   ]
  },
  {
   "cell_type": "code",
   "execution_count": 76,
   "metadata": {},
   "outputs": [],
   "source": [
    "\n",
    "#Dataframe labels to string:\n",
    "train_1['Form'] = train_1['Form'].astype('str')\n",
    "val_1['Form'] = val_1['Form'].astype('str')"
   ]
  },
  {
   "cell_type": "code",
   "execution_count": 77,
   "metadata": {
    "scrolled": false
   },
   "outputs": [
    {
     "name": "stdout",
     "output_type": "stream",
     "text": [
      "Found 2590 validated image filenames belonging to 5 classes.\n",
      "Found 1110 validated image filenames belonging to 5 classes.\n"
     ]
    },
    {
     "name": "stderr",
     "output_type": "stream",
     "text": [
      "C:\\Users\\anyone\\anaconda3\\Lib\\site-packages\\keras\\src\\legacy\\preprocessing\\image.py:920: UserWarning: Found 1 invalid image filename(s) in x_col=\"Image\". These filename(s) will be ignored.\n",
      "  warnings.warn(\n"
     ]
    }
   ],
   "source": [
    "from tensorflow.keras.preprocessing.image import ImageDataGenerator\n",
    "\n",
    "train_datagen = ImageDataGenerator(rescale=1./255, data_format='channels_last')\n",
    "val_datagen = ImageDataGenerator(rescale=1./255, data_format='channels_last')\n",
    "\n",
    "batch_size = 32\n",
    "\n",
    "train_generator = train_datagen.flow_from_dataframe(\n",
    "        dataframe=train_1,\n",
    "        directory='./',\n",
    "        x_col=\"Image\",\n",
    "        y_col=\"Form\",\n",
    "        target_size=(28, 28),\n",
    "        batch_size=batch_size,\n",
    "        class_mode='categorical')\n",
    "\n",
    "validation_generator = val_datagen.flow_from_dataframe(\n",
    "        dataframe=val_1,\n",
    "        directory='./',\n",
    "        x_col=\"Image\",\n",
    "        y_col=\"Form\",\n",
    "        target_size=(28, 28),\n",
    "        batch_size=batch_size,\n",
    "        class_mode='categorical')\n",
    "\n",
    "#print(vars(validation_generator))\n",
    "\n",
    "class_weights={0:5.98, 1:38.97,2:1,3:2.4,4:1.87}\n",
    "#38.97"
   ]
  },
  {
   "cell_type": "code",
   "execution_count": 78,
   "metadata": {},
   "outputs": [
    {
     "name": "stderr",
     "output_type": "stream",
     "text": [
      "C:\\Users\\anyone\\anaconda3\\Lib\\site-packages\\keras\\src\\trainers\\data_adapters\\py_dataset_adapter.py:120: UserWarning: Your `PyDataset` class should call `super().__init__(**kwargs)` in its constructor. `**kwargs` can include `workers`, `use_multiprocessing`, `max_queue_size`. Do not pass these arguments to `fit()`, as they will be ignored.\n",
      "  self._warn_if_super_not_called()\n"
     ]
    }
   ],
   "source": [
    "\n",
    "model_history = base_model.fit(train_generator, validation_data=validation_generator, epochs=50, verbose=0, class_weight=None)"
   ]
  },
  {
   "cell_type": "code",
   "execution_count": 79,
   "metadata": {
    "scrolled": false
   },
   "outputs": [
    {
     "name": "stdout",
     "output_type": "stream",
     "text": [
      "Train: \n",
      "\u001b[1m81/81\u001b[0m \u001b[32m━━━━━━━━━━━━━━━━━━━━\u001b[0m\u001b[37m\u001b[0m \u001b[1m3s\u001b[0m 33ms/step - categorical_accuracy: 0.9367 - f1_score: 0.7612 - loss: 0.2659\n",
      "Validation: \n",
      "\u001b[1m35/35\u001b[0m \u001b[32m━━━━━━━━━━━━━━━━━━━━\u001b[0m\u001b[37m\u001b[0m \u001b[1m1s\u001b[0m 34ms/step - categorical_accuracy: 0.9362 - f1_score: 0.7417 - loss: 0.2957\n"
     ]
    },
    {
     "data": {
      "image/png": "[encoded data removed]",
      "text/plain": [
       "<Figure size 1000x500 with 2 Axes>"
      ]
     },
     "metadata": {},
     "output_type": "display_data"
    }
   ],
   "source": [
    "'''\n",
    "#def f1_score():\n",
    "val_predictions = base_model.predict(validation_generator)\n",
    "val_pred_classes = np.argmax(val_predictions, axis=1)\n",
    "val_true_classes = validation_generator.classes\n",
    "f1 = f1_score(val_true_classes, val_pred_classes, average=None)\n",
    "\n",
    "train_predictions = base_model.predict(train_generator)\n",
    "train_pred_classes = np.argmax(train_predictions, axis=1)\n",
    "train_true_classes = train_generator.classes\n",
    "f1_train = f1_score(train_true_classes, train_pred_classes, average=None)\n",
    "\n",
    "print(\"F1 score:\", f1)\n",
    "print(\"F1 score train:\", f1_train)\n",
    "\n",
    "\n",
    "f1_macro_val = f1_score(val_true_classes, val_pred_classes, average='macro')\n",
    "f1_macro_train = f1_score(train_true_classes, train_pred_classes, average='macro')\n",
    "\n",
    "print(\"F1 macro score val:\", f1_macro_val)\n",
    "print(\"F1 macro score train:\", f1_macro_train)\n",
    "'''\n",
    "\n",
    "#print(vars(validation_generator))\n",
    "\n",
    "\n",
    "print('Train: ')\n",
    "base_model.evaluate(train_generator)\n",
    "print('Validation: ')\n",
    "base_model.evaluate(validation_generator)\n",
    "\n",
    "plot_learning_curve(model_history.history['loss'], model_history.history['val_loss'], \n",
    "                    model_history.history['categorical_accuracy'], model_history.history['val_categorical_accuracy'], \n",
    "                    metric_name='Accuracy')\n"
   ]
  },
  {
   "cell_type": "markdown",
   "metadata": {},
   "source": [
    "### Incremental changes"
   ]
  },
  {
   "cell_type": "code",
   "execution_count": 80,
   "metadata": {
    "scrolled": false
   },
   "outputs": [
    {
     "name": "stderr",
     "output_type": "stream",
     "text": [
      "C:\\Users\\anyone\\anaconda3\\Lib\\site-packages\\keras\\src\\layers\\reshaping\\flatten.py:37: UserWarning: Do not pass an `input_shape`/`input_dim` argument to a layer. When using Sequential models, prefer using an `Input(shape)` object as the first layer in the model instead.\n",
      "  super().__init__(**kwargs)\n"
     ]
    },
    {
     "data": {
      "text/html": [
       "<pre style=\"white-space:pre;overflow-x:auto;line-height:normal;font-family:Menlo,'DejaVu Sans Mono',consolas,'Courier New',monospace\"><span style=\"font-weight: bold\">Model: \"sequential_1\"</span>\n",
       "</pre>\n"
      ],
      "text/plain": [
       "\u001b[1mModel: \"sequential_1\"\u001b[0m\n"
      ]
     },
     "metadata": {},
     "output_type": "display_data"
    },
    {
     "data": {
      "text/html": [
       "<pre style=\"white-space:pre;overflow-x:auto;line-height:normal;font-family:Menlo,'DejaVu Sans Mono',consolas,'Courier New',monospace\">┏━━━━━━━━━━━━━━━━━━━━━━━━━━━━━━━━━━━━━━┳━━━━━━━━━━━━━━━━━━━━━━━━━━━━━┳━━━━━━━━━━━━━━━━━┓\n",
       "┃<span style=\"font-weight: bold\"> Layer (type)                         </span>┃<span style=\"font-weight: bold\"> Output Shape                </span>┃<span style=\"font-weight: bold\">         Param # </span>┃\n",
       "┡━━━━━━━━━━━━━━━━━━━━━━━━━━━━━━━━━━━━━━╇━━━━━━━━━━━━━━━━━━━━━━━━━━━━━╇━━━━━━━━━━━━━━━━━┩\n",
       "│ flatten_1 (<span style=\"color: #0087ff; text-decoration-color: #0087ff\">Flatten</span>)                  │ (<span style=\"color: #00d7ff; text-decoration-color: #00d7ff\">None</span>, <span style=\"color: #00af00; text-decoration-color: #00af00\">2352</span>)                │               <span style=\"color: #00af00; text-decoration-color: #00af00\">0</span> │\n",
       "├──────────────────────────────────────┼─────────────────────────────┼─────────────────┤\n",
       "│ dense_2 (<span style=\"color: #0087ff; text-decoration-color: #0087ff\">Dense</span>)                      │ (<span style=\"color: #00d7ff; text-decoration-color: #00d7ff\">None</span>, <span style=\"color: #00af00; text-decoration-color: #00af00\">256</span>)                 │         <span style=\"color: #00af00; text-decoration-color: #00af00\">602,368</span> │\n",
       "├──────────────────────────────────────┼─────────────────────────────┼─────────────────┤\n",
       "│ dense_3 (<span style=\"color: #0087ff; text-decoration-color: #0087ff\">Dense</span>)                      │ (<span style=\"color: #00d7ff; text-decoration-color: #00d7ff\">None</span>, <span style=\"color: #00af00; text-decoration-color: #00af00\">256</span>)                 │          <span style=\"color: #00af00; text-decoration-color: #00af00\">65,792</span> │\n",
       "├──────────────────────────────────────┼─────────────────────────────┼─────────────────┤\n",
       "│ dense_4 (<span style=\"color: #0087ff; text-decoration-color: #0087ff\">Dense</span>)                      │ (<span style=\"color: #00d7ff; text-decoration-color: #00d7ff\">None</span>, <span style=\"color: #00af00; text-decoration-color: #00af00\">5</span>)                   │           <span style=\"color: #00af00; text-decoration-color: #00af00\">1,285</span> │\n",
       "└──────────────────────────────────────┴─────────────────────────────┴─────────────────┘\n",
       "</pre>\n"
      ],
      "text/plain": [
       "┏━━━━━━━━━━━━━━━━━━━━━━━━━━━━━━━━━━━━━━┳━━━━━━━━━━━━━━━━━━━━━━━━━━━━━┳━━━━━━━━━━━━━━━━━┓\n",
       "┃\u001b[1m \u001b[0m\u001b[1mLayer (type)                        \u001b[0m\u001b[1m \u001b[0m┃\u001b[1m \u001b[0m\u001b[1mOutput Shape               \u001b[0m\u001b[1m \u001b[0m┃\u001b[1m \u001b[0m\u001b[1m        Param #\u001b[0m\u001b[1m \u001b[0m┃\n",
       "┡━━━━━━━━━━━━━━━━━━━━━━━━━━━━━━━━━━━━━━╇━━━━━━━━━━━━━━━━━━━━━━━━━━━━━╇━━━━━━━━━━━━━━━━━┩\n",
       "│ flatten_1 (\u001b[38;5;33mFlatten\u001b[0m)                  │ (\u001b[38;5;45mNone\u001b[0m, \u001b[38;5;34m2352\u001b[0m)                │               \u001b[38;5;34m0\u001b[0m │\n",
       "├──────────────────────────────────────┼─────────────────────────────┼─────────────────┤\n",
       "│ dense_2 (\u001b[38;5;33mDense\u001b[0m)                      │ (\u001b[38;5;45mNone\u001b[0m, \u001b[38;5;34m256\u001b[0m)                 │         \u001b[38;5;34m602,368\u001b[0m │\n",
       "├──────────────────────────────────────┼─────────────────────────────┼─────────────────┤\n",
       "│ dense_3 (\u001b[38;5;33mDense\u001b[0m)                      │ (\u001b[38;5;45mNone\u001b[0m, \u001b[38;5;34m256\u001b[0m)                 │          \u001b[38;5;34m65,792\u001b[0m │\n",
       "├──────────────────────────────────────┼─────────────────────────────┼─────────────────┤\n",
       "│ dense_4 (\u001b[38;5;33mDense\u001b[0m)                      │ (\u001b[38;5;45mNone\u001b[0m, \u001b[38;5;34m5\u001b[0m)                   │           \u001b[38;5;34m1,285\u001b[0m │\n",
       "└──────────────────────────────────────┴─────────────────────────────┴─────────────────┘\n"
      ]
     },
     "metadata": {},
     "output_type": "display_data"
    },
    {
     "data": {
      "text/html": [
       "<pre style=\"white-space:pre;overflow-x:auto;line-height:normal;font-family:Menlo,'DejaVu Sans Mono',consolas,'Courier New',monospace\"><span style=\"font-weight: bold\"> Total params: </span><span style=\"color: #00af00; text-decoration-color: #00af00\">669,445</span> (2.55 MB)\n",
       "</pre>\n"
      ],
      "text/plain": [
       "\u001b[1m Total params: \u001b[0m\u001b[38;5;34m669,445\u001b[0m (2.55 MB)\n"
      ]
     },
     "metadata": {},
     "output_type": "display_data"
    },
    {
     "data": {
      "text/html": [
       "<pre style=\"white-space:pre;overflow-x:auto;line-height:normal;font-family:Menlo,'DejaVu Sans Mono',consolas,'Courier New',monospace\"><span style=\"font-weight: bold\"> Trainable params: </span><span style=\"color: #00af00; text-decoration-color: #00af00\">669,445</span> (2.55 MB)\n",
       "</pre>\n"
      ],
      "text/plain": [
       "\u001b[1m Trainable params: \u001b[0m\u001b[38;5;34m669,445\u001b[0m (2.55 MB)\n"
      ]
     },
     "metadata": {},
     "output_type": "display_data"
    },
    {
     "data": {
      "text/html": [
       "<pre style=\"white-space:pre;overflow-x:auto;line-height:normal;font-family:Menlo,'DejaVu Sans Mono',consolas,'Courier New',monospace\"><span style=\"font-weight: bold\"> Non-trainable params: </span><span style=\"color: #00af00; text-decoration-color: #00af00\">0</span> (0.00 B)\n",
       "</pre>\n"
      ],
      "text/plain": [
       "\u001b[1m Non-trainable params: \u001b[0m\u001b[38;5;34m0\u001b[0m (0.00 B)\n"
      ]
     },
     "metadata": {},
     "output_type": "display_data"
    }
   ],
   "source": [
    "INPUT_DIMENSION = (28,28,3)\n",
    "HIDDEN_LAYER_DIMENSION = 256\n",
    "OUTPUT_CLASSES = 5\n",
    "\n",
    "\n",
    "imp_model = tf.keras.Sequential([\n",
    "    tf.keras.layers.Flatten(input_shape=INPUT_DIMENSION),\n",
    "    tf.keras.layers.Dense(HIDDEN_LAYER_DIMENSION, activation='relu'),\n",
    "    tf.keras.layers.Dense(HIDDEN_LAYER_DIMENSION, activation='relu'),\n",
    "    tf.keras.layers.Dense(OUTPUT_CLASSES),\n",
    "    \n",
    "])\n",
    "\n",
    "imp_model.summary()"
   ]
  },
  {
   "cell_type": "code",
   "execution_count": 81,
   "metadata": {},
   "outputs": [],
   "source": [
    "imp_model.compile(optimizer='SGD', loss=tf.keras.losses.CategoricalCrossentropy(from_logits=True),\n",
    "                   metrics=['categorical_accuracy','f1_score'])"
   ]
  },
  {
   "cell_type": "code",
   "execution_count": 82,
   "metadata": {},
   "outputs": [],
   "source": [
    "imp_model_history = imp_model.fit(train_generator, validation_data=validation_generator, epochs=50, verbose=0, class_weight=class_weights)"
   ]
  },
  {
   "cell_type": "code",
   "execution_count": 83,
   "metadata": {
    "scrolled": false
   },
   "outputs": [
    {
     "data": {
      "text/plain": [
       "\"\\n#print(imp_model_history.history['f1_score'])\\n\""
      ]
     },
     "execution_count": 83,
     "metadata": {},
     "output_type": "execute_result"
    }
   ],
   "source": [
    "'''\n",
    "#def f1_score():\n",
    "val_predictions = imp_model.predict(validation_generator)\n",
    "val_pred_classes = np.argmax(val_predictions, axis=1)\n",
    "val_true_classes = validation_generator.classes\n",
    "f1 = f1_score(val_true_classes, val_pred_classes, average=None)\n",
    "\n",
    "train_predictions = imp_model.predict(train_generator)\n",
    "train_pred_classes = np.argmax(train_predictions, axis=1)\n",
    "train_true_classes = train_generator.classes\n",
    "f1_train = f1_score(train_true_classes, train_pred_classes, average=None)\n",
    "\n",
    "f1_macro_val = f1_score(val_true_classes, val_pred_classes, average='macro')\n",
    "f1_macro_train = f1_score(train_true_classes, train_pred_classes, average='macro')\n",
    "\n",
    "print(\"Val - F1 score:\", f1)\n",
    "print(\"Train - F1 score:\", f1_train)\n",
    "\n",
    "print(\"Val - F1_macro score:\", f1_macro_val)\n",
    "print(\"Train - F1_macro score:\", f1_macro_train)\n",
    "\n",
    "\n",
    "\n",
    "y_true=[]\n",
    "for i in train['Form'].to_numpy():\n",
    "    b=[0,0,0,0,0]\n",
    "    b[i-1]=1\n",
    "    y_true.append(b)\n",
    "\n",
    "\n",
    "metric = tf.keras.metrics.F1Score(average=None, threshold=None, name='f1_score', dtype=None)\n",
    "#y_true = train['Form'].to_numpy()\n",
    "y_pred = train_predictions\n",
    "\n",
    "metric.update_state(y_true, y_pred)\n",
    "\n",
    "result = metric.result()\n",
    "\n",
    "print(result)\n",
    "'''\n",
    "'''\n",
    "#print(imp_model_history.history['f1_score'])\n",
    "'''\n"
   ]
  },
  {
   "cell_type": "code",
   "execution_count": 84,
   "metadata": {},
   "outputs": [
    {
     "name": "stdout",
     "output_type": "stream",
     "text": [
      "\u001b[1m81/81\u001b[0m \u001b[32m━━━━━━━━━━━━━━━━━━━━\u001b[0m\u001b[37m\u001b[0m \u001b[1m2s\u001b[0m 27ms/step - categorical_accuracy: 1.0000 - f1_score: 1.0000 - loss: 0.0112\n",
      "\u001b[1m35/35\u001b[0m \u001b[32m━━━━━━━━━━━━━━━━━━━━\u001b[0m\u001b[37m\u001b[0m \u001b[1m1s\u001b[0m 28ms/step - categorical_accuracy: 0.9759 - f1_score: 0.9665 - loss: 0.0814\n"
     ]
    },
    {
     "data": {
      "image/png": "[encoded data removed]",
      "text/plain": [
       "<Figure size 1000x500 with 2 Axes>"
      ]
     },
     "metadata": {},
     "output_type": "display_data"
    }
   ],
   "source": [
    "imp_model.evaluate(train_generator)\n",
    "imp_model.evaluate(validation_generator)\n",
    "\n",
    "plot_learning_curve(imp_model_history.history['loss'], imp_model_history.history['val_loss'], \n",
    "                    imp_model_history.history['categorical_accuracy'], imp_model_history.history['val_categorical_accuracy'], \n",
    "                    metric_name='accuracy')"
   ]
  },
  {
   "cell_type": "markdown",
   "metadata": {},
   "source": [
    "### Baseline model 2"
   ]
  },
  {
   "cell_type": "code",
   "execution_count": 85,
   "metadata": {},
   "outputs": [
    {
     "data": {
      "text/html": [
       "<div>\n",
       "<style scoped>\n",
       "    .dataframe tbody tr th:only-of-type {\n",
       "        vertical-align: middle;\n",
       "    }\n",
       "\n",
       "    .dataframe tbody tr th {\n",
       "        vertical-align: top;\n",
       "    }\n",
       "\n",
       "    .dataframe thead th {\n",
       "        text-align: right;\n",
       "    }\n",
       "</style>\n",
       "<table border=\"1\" class=\"dataframe\">\n",
       "  <thead>\n",
       "    <tr style=\"text-align: right;\">\n",
       "      <th></th>\n",
       "      <th>Image</th>\n",
       "      <th>Form</th>\n",
       "      <th>Type</th>\n",
       "    </tr>\n",
       "  </thead>\n",
       "  <tbody>\n",
       "    <tr>\n",
       "      <th>1319</th>\n",
       "      <td>./trafficsigns_dataset/round/noparking/01737_0...</td>\n",
       "      <td>3</td>\n",
       "      <td>6</td>\n",
       "    </tr>\n",
       "    <tr>\n",
       "      <th>3269</th>\n",
       "      <td>./trafficsigns_dataset/triangle/warning/00573_...</td>\n",
       "      <td>5</td>\n",
       "      <td>16</td>\n",
       "    </tr>\n",
       "    <tr>\n",
       "      <th>2259</th>\n",
       "      <td>./trafficsigns_dataset/square/continue/01669_0...</td>\n",
       "      <td>4</td>\n",
       "      <td>11</td>\n",
       "    </tr>\n",
       "    <tr>\n",
       "      <th>2886</th>\n",
       "      <td>./trafficsigns_dataset/triangle/giveway/01001_...</td>\n",
       "      <td>5</td>\n",
       "      <td>15</td>\n",
       "    </tr>\n",
       "  </tbody>\n",
       "</table>\n",
       "</div>"
      ],
      "text/plain": [
       "                                                  Image  Form  Type\n",
       "1319  ./trafficsigns_dataset/round/noparking/01737_0...     3     6\n",
       "3269  ./trafficsigns_dataset/triangle/warning/00573_...     5    16\n",
       "2259  ./trafficsigns_dataset/square/continue/01669_0...     4    11\n",
       "2886  ./trafficsigns_dataset/triangle/giveway/01001_...     5    15"
      ]
     },
     "execution_count": 85,
     "metadata": {},
     "output_type": "execute_result"
    }
   ],
   "source": [
    "#Preparing the dataset for model 1: input image, output \n",
    "train_2 = train.copy()\n",
    "val_2 = val.copy()\n",
    "\n",
    "train_2.head(4)"
   ]
  },
  {
   "cell_type": "code",
   "execution_count": 86,
   "metadata": {},
   "outputs": [
    {
     "name": "stderr",
     "output_type": "stream",
     "text": [
      "C:\\Users\\anyone\\anaconda3\\Lib\\site-packages\\keras\\src\\layers\\reshaping\\flatten.py:37: UserWarning: Do not pass an `input_shape`/`input_dim` argument to a layer. When using Sequential models, prefer using an `Input(shape)` object as the first layer in the model instead.\n",
      "  super().__init__(**kwargs)\n"
     ]
    },
    {
     "data": {
      "text/html": [
       "<pre style=\"white-space:pre;overflow-x:auto;line-height:normal;font-family:Menlo,'DejaVu Sans Mono',consolas,'Courier New',monospace\"><span style=\"font-weight: bold\">Model: \"sequential_2\"</span>\n",
       "</pre>\n"
      ],
      "text/plain": [
       "\u001b[1mModel: \"sequential_2\"\u001b[0m\n"
      ]
     },
     "metadata": {},
     "output_type": "display_data"
    },
    {
     "data": {
      "text/html": [
       "<pre style=\"white-space:pre;overflow-x:auto;line-height:normal;font-family:Menlo,'DejaVu Sans Mono',consolas,'Courier New',monospace\">┏━━━━━━━━━━━━━━━━━━━━━━━━━━━━━━━━━━━━━━┳━━━━━━━━━━━━━━━━━━━━━━━━━━━━━┳━━━━━━━━━━━━━━━━━┓\n",
       "┃<span style=\"font-weight: bold\"> Layer (type)                         </span>┃<span style=\"font-weight: bold\"> Output Shape                </span>┃<span style=\"font-weight: bold\">         Param # </span>┃\n",
       "┡━━━━━━━━━━━━━━━━━━━━━━━━━━━━━━━━━━━━━━╇━━━━━━━━━━━━━━━━━━━━━━━━━━━━━╇━━━━━━━━━━━━━━━━━┩\n",
       "│ flatten_2 (<span style=\"color: #0087ff; text-decoration-color: #0087ff\">Flatten</span>)                  │ (<span style=\"color: #00d7ff; text-decoration-color: #00d7ff\">None</span>, <span style=\"color: #00af00; text-decoration-color: #00af00\">2352</span>)                │               <span style=\"color: #00af00; text-decoration-color: #00af00\">0</span> │\n",
       "├──────────────────────────────────────┼─────────────────────────────┼─────────────────┤\n",
       "│ dense_5 (<span style=\"color: #0087ff; text-decoration-color: #0087ff\">Dense</span>)                      │ (<span style=\"color: #00d7ff; text-decoration-color: #00d7ff\">None</span>, <span style=\"color: #00af00; text-decoration-color: #00af00\">256</span>)                 │         <span style=\"color: #00af00; text-decoration-color: #00af00\">602,368</span> │\n",
       "├──────────────────────────────────────┼─────────────────────────────┼─────────────────┤\n",
       "│ dense_6 (<span style=\"color: #0087ff; text-decoration-color: #0087ff\">Dense</span>)                      │ (<span style=\"color: #00d7ff; text-decoration-color: #00d7ff\">None</span>, <span style=\"color: #00af00; text-decoration-color: #00af00\">16</span>)                  │           <span style=\"color: #00af00; text-decoration-color: #00af00\">4,112</span> │\n",
       "└──────────────────────────────────────┴─────────────────────────────┴─────────────────┘\n",
       "</pre>\n"
      ],
      "text/plain": [
       "┏━━━━━━━━━━━━━━━━━━━━━━━━━━━━━━━━━━━━━━┳━━━━━━━━━━━━━━━━━━━━━━━━━━━━━┳━━━━━━━━━━━━━━━━━┓\n",
       "┃\u001b[1m \u001b[0m\u001b[1mLayer (type)                        \u001b[0m\u001b[1m \u001b[0m┃\u001b[1m \u001b[0m\u001b[1mOutput Shape               \u001b[0m\u001b[1m \u001b[0m┃\u001b[1m \u001b[0m\u001b[1m        Param #\u001b[0m\u001b[1m \u001b[0m┃\n",
       "┡━━━━━━━━━━━━━━━━━━━━━━━━━━━━━━━━━━━━━━╇━━━━━━━━━━━━━━━━━━━━━━━━━━━━━╇━━━━━━━━━━━━━━━━━┩\n",
       "│ flatten_2 (\u001b[38;5;33mFlatten\u001b[0m)                  │ (\u001b[38;5;45mNone\u001b[0m, \u001b[38;5;34m2352\u001b[0m)                │               \u001b[38;5;34m0\u001b[0m │\n",
       "├──────────────────────────────────────┼─────────────────────────────┼─────────────────┤\n",
       "│ dense_5 (\u001b[38;5;33mDense\u001b[0m)                      │ (\u001b[38;5;45mNone\u001b[0m, \u001b[38;5;34m256\u001b[0m)                 │         \u001b[38;5;34m602,368\u001b[0m │\n",
       "├──────────────────────────────────────┼─────────────────────────────┼─────────────────┤\n",
       "│ dense_6 (\u001b[38;5;33mDense\u001b[0m)                      │ (\u001b[38;5;45mNone\u001b[0m, \u001b[38;5;34m16\u001b[0m)                  │           \u001b[38;5;34m4,112\u001b[0m │\n",
       "└──────────────────────────────────────┴─────────────────────────────┴─────────────────┘\n"
      ]
     },
     "metadata": {},
     "output_type": "display_data"
    },
    {
     "data": {
      "text/html": [
       "<pre style=\"white-space:pre;overflow-x:auto;line-height:normal;font-family:Menlo,'DejaVu Sans Mono',consolas,'Courier New',monospace\"><span style=\"font-weight: bold\"> Total params: </span><span style=\"color: #00af00; text-decoration-color: #00af00\">606,480</span> (2.31 MB)\n",
       "</pre>\n"
      ],
      "text/plain": [
       "\u001b[1m Total params: \u001b[0m\u001b[38;5;34m606,480\u001b[0m (2.31 MB)\n"
      ]
     },
     "metadata": {},
     "output_type": "display_data"
    },
    {
     "data": {
      "text/html": [
       "<pre style=\"white-space:pre;overflow-x:auto;line-height:normal;font-family:Menlo,'DejaVu Sans Mono',consolas,'Courier New',monospace\"><span style=\"font-weight: bold\"> Trainable params: </span><span style=\"color: #00af00; text-decoration-color: #00af00\">606,480</span> (2.31 MB)\n",
       "</pre>\n"
      ],
      "text/plain": [
       "\u001b[1m Trainable params: \u001b[0m\u001b[38;5;34m606,480\u001b[0m (2.31 MB)\n"
      ]
     },
     "metadata": {},
     "output_type": "display_data"
    },
    {
     "data": {
      "text/html": [
       "<pre style=\"white-space:pre;overflow-x:auto;line-height:normal;font-family:Menlo,'DejaVu Sans Mono',consolas,'Courier New',monospace\"><span style=\"font-weight: bold\"> Non-trainable params: </span><span style=\"color: #00af00; text-decoration-color: #00af00\">0</span> (0.00 B)\n",
       "</pre>\n"
      ],
      "text/plain": [
       "\u001b[1m Non-trainable params: \u001b[0m\u001b[38;5;34m0\u001b[0m (0.00 B)\n"
      ]
     },
     "metadata": {},
     "output_type": "display_data"
    }
   ],
   "source": [
    "INPUT_DIMENSION = (28,28,3)\n",
    "HIDDEN_LAYER_DIMENSION = 256\n",
    "OUTPUT_CLASSES = 16\n",
    "\n",
    "\n",
    "base_model_2 = tf.keras.Sequential([\n",
    "    tf.keras.layers.Flatten(input_shape=INPUT_DIMENSION),\n",
    "    tf.keras.layers.Dense(HIDDEN_LAYER_DIMENSION, activation='sigmoid'),\n",
    "    tf.keras.layers.Dense(OUTPUT_CLASSES)\n",
    "])\n",
    "\n",
    "base_model_2.summary()"
   ]
  },
  {
   "cell_type": "code",
   "execution_count": 87,
   "metadata": {},
   "outputs": [],
   "source": [
    "#tf.keras.utils.plot_model(base_model_2, show_shapes=True)"
   ]
  },
  {
   "cell_type": "code",
   "execution_count": 88,
   "metadata": {},
   "outputs": [],
   "source": [
    "base_model_2.compile(optimizer='SGD', loss=tf.keras.losses.CategoricalCrossentropy(from_logits=True),\n",
    "                   metrics=['f1_score','categorical_accuracy'])"
   ]
  },
  {
   "cell_type": "code",
   "execution_count": 89,
   "metadata": {},
   "outputs": [
    {
     "name": "stdout",
     "output_type": "stream",
     "text": [
      "<class 'str'>\n"
     ]
    }
   ],
   "source": [
    "\n",
    "#Dataframe labels to string to fit data generation:\n",
    "train_2['Form'] = train_2['Form'].astype('str')\n",
    "val_2['Form'] = val_2['Form'].astype('str')\n",
    "\n",
    "train_2['Type'] = train_2['Type'].astype('str')\n",
    "val_2['Type'] = val_2['Type'].astype('str')\n",
    "\n",
    "print(type(train_2['Type'][0]))"
   ]
  },
  {
   "cell_type": "code",
   "execution_count": 90,
   "metadata": {},
   "outputs": [
    {
     "name": "stdout",
     "output_type": "stream",
     "text": [
      "Found 2590 validated image filenames belonging to 16 classes.\n",
      "Found 1110 validated image filenames belonging to 16 classes.\n"
     ]
    },
    {
     "name": "stderr",
     "output_type": "stream",
     "text": [
      "C:\\Users\\anyone\\anaconda3\\Lib\\site-packages\\keras\\src\\legacy\\preprocessing\\image.py:920: UserWarning: Found 1 invalid image filename(s) in x_col=\"Image\". These filename(s) will be ignored.\n",
      "  warnings.warn(\n"
     ]
    }
   ],
   "source": [
    "from tensorflow.keras.preprocessing.image import ImageDataGenerator\n",
    "\n",
    "train_datagen = ImageDataGenerator(rescale=1./255, data_format='channels_last')\n",
    "val_datagen = ImageDataGenerator(rescale=1./255, data_format='channels_last')\n",
    "\n",
    "batch_size = 32\n",
    "\n",
    "\n",
    "train_generator_2 = train_datagen.flow_from_dataframe(\n",
    "        dataframe=train_2,\n",
    "        directory='./',\n",
    "        x_col=\"Image\",\n",
    "        y_col=\"Type\",\n",
    "        target_size=(28, 28),\n",
    "        batch_size=batch_size,\n",
    "        class_mode='categorical')\n",
    "\n",
    "validation_generator_2 = val_datagen.flow_from_dataframe(\n",
    "        dataframe=val_2,\n",
    "        directory='./',\n",
    "        x_col=\"Image\",\n",
    "        y_col=\"Type\",\n",
    "        target_size=(28, 28),\n",
    "        batch_size=batch_size,\n",
    "        class_mode='categorical')\n",
    "\n",
    "#print(dir(validation_generator))\n",
    "#print(vars(validation_generator))\n",
    "\n"
   ]
  },
  {
   "cell_type": "code",
   "execution_count": 91,
   "metadata": {},
   "outputs": [
    {
     "name": "stderr",
     "output_type": "stream",
     "text": [
      "C:\\Users\\anyone\\anaconda3\\Lib\\site-packages\\keras\\src\\trainers\\data_adapters\\py_dataset_adapter.py:120: UserWarning: Your `PyDataset` class should call `super().__init__(**kwargs)` in its constructor. `**kwargs` can include `workers`, `use_multiprocessing`, `max_queue_size`. Do not pass these arguments to `fit()`, as they will be ignored.\n",
      "  self._warn_if_super_not_called()\n"
     ]
    }
   ],
   "source": [
    "base_model_2_history = base_model_2.fit(train_generator_2, validation_data=validation_generator_2, epochs=50, verbose=0)"
   ]
  },
  {
   "cell_type": "code",
   "execution_count": 92,
   "metadata": {},
   "outputs": [
    {
     "name": "stdout",
     "output_type": "stream",
     "text": [
      "\u001b[1m81/81\u001b[0m \u001b[32m━━━━━━━━━━━━━━━━━━━━\u001b[0m\u001b[37m\u001b[0m \u001b[1m2s\u001b[0m 27ms/step - categorical_accuracy: 0.8957 - f1_score: 0.8368 - loss: 0.5411\n",
      "\u001b[1m35/35\u001b[0m \u001b[32m━━━━━━━━━━━━━━━━━━━━\u001b[0m\u001b[37m\u001b[0m \u001b[1m1s\u001b[0m 26ms/step - categorical_accuracy: 0.8702 - f1_score: 0.7860 - loss: 0.6205\n"
     ]
    },
    {
     "data": {
      "image/png": "[encoded data removed]",
      "text/plain": [
       "<Figure size 1000x500 with 2 Axes>"
      ]
     },
     "metadata": {},
     "output_type": "display_data"
    }
   ],
   "source": [
    "base_model_2.evaluate(train_generator_2)\n",
    "base_model_2.evaluate(validation_generator_2)\n",
    "\n",
    "plot_learning_curve(base_model_2_history.history['loss'], base_model_2_history.history['val_loss'], \n",
    "                    base_model_2_history.history['categorical_accuracy'], base_model_2_history.history['val_categorical_accuracy'], \n",
    "                    metric_name='accuracy')"
   ]
  },
  {
   "cell_type": "markdown",
   "metadata": {},
   "source": [
    "### Improved model 2"
   ]
  },
  {
   "cell_type": "code",
   "execution_count": 93,
   "metadata": {},
   "outputs": [
    {
     "name": "stdout",
     "output_type": "stream",
     "text": [
      "[ 2.36138614 15.38709677  2.40909091  5.42045455  1.76666667  3.1589404\n",
      "  6.36        2.29326923  3.58646617  5.67857143  3.13815789  6.625\n",
      "  5.48275862  2.40909091  2.90853659  1.        ]\n"
     ]
    },
    {
     "name": "stderr",
     "output_type": "stream",
     "text": [
      "C:\\Users\\anyone\\anaconda3\\Lib\\site-packages\\keras\\src\\layers\\reshaping\\flatten.py:37: UserWarning: Do not pass an `input_shape`/`input_dim` argument to a layer. When using Sequential models, prefer using an `Input(shape)` object as the first layer in the model instead.\n",
      "  super().__init__(**kwargs)\n"
     ]
    },
    {
     "data": {
      "text/html": [
       "<pre style=\"white-space:pre;overflow-x:auto;line-height:normal;font-family:Menlo,'DejaVu Sans Mono',consolas,'Courier New',monospace\"><span style=\"font-weight: bold\">Model: \"sequential_3\"</span>\n",
       "</pre>\n"
      ],
      "text/plain": [
       "\u001b[1mModel: \"sequential_3\"\u001b[0m\n"
      ]
     },
     "metadata": {},
     "output_type": "display_data"
    },
    {
     "data": {
      "text/html": [
       "<pre style=\"white-space:pre;overflow-x:auto;line-height:normal;font-family:Menlo,'DejaVu Sans Mono',consolas,'Courier New',monospace\">┏━━━━━━━━━━━━━━━━━━━━━━━━━━━━━━━━━━━━━━┳━━━━━━━━━━━━━━━━━━━━━━━━━━━━━┳━━━━━━━━━━━━━━━━━┓\n",
       "┃<span style=\"font-weight: bold\"> Layer (type)                         </span>┃<span style=\"font-weight: bold\"> Output Shape                </span>┃<span style=\"font-weight: bold\">         Param # </span>┃\n",
       "┡━━━━━━━━━━━━━━━━━━━━━━━━━━━━━━━━━━━━━━╇━━━━━━━━━━━━━━━━━━━━━━━━━━━━━╇━━━━━━━━━━━━━━━━━┩\n",
       "│ flatten_3 (<span style=\"color: #0087ff; text-decoration-color: #0087ff\">Flatten</span>)                  │ (<span style=\"color: #00d7ff; text-decoration-color: #00d7ff\">None</span>, <span style=\"color: #00af00; text-decoration-color: #00af00\">2352</span>)                │               <span style=\"color: #00af00; text-decoration-color: #00af00\">0</span> │\n",
       "├──────────────────────────────────────┼─────────────────────────────┼─────────────────┤\n",
       "│ dense_7 (<span style=\"color: #0087ff; text-decoration-color: #0087ff\">Dense</span>)                      │ (<span style=\"color: #00d7ff; text-decoration-color: #00d7ff\">None</span>, <span style=\"color: #00af00; text-decoration-color: #00af00\">256</span>)                 │         <span style=\"color: #00af00; text-decoration-color: #00af00\">602,368</span> │\n",
       "├──────────────────────────────────────┼─────────────────────────────┼─────────────────┤\n",
       "│ dense_8 (<span style=\"color: #0087ff; text-decoration-color: #0087ff\">Dense</span>)                      │ (<span style=\"color: #00d7ff; text-decoration-color: #00d7ff\">None</span>, <span style=\"color: #00af00; text-decoration-color: #00af00\">256</span>)                 │          <span style=\"color: #00af00; text-decoration-color: #00af00\">65,792</span> │\n",
       "├──────────────────────────────────────┼─────────────────────────────┼─────────────────┤\n",
       "│ dense_9 (<span style=\"color: #0087ff; text-decoration-color: #0087ff\">Dense</span>)                      │ (<span style=\"color: #00d7ff; text-decoration-color: #00d7ff\">None</span>, <span style=\"color: #00af00; text-decoration-color: #00af00\">16</span>)                  │           <span style=\"color: #00af00; text-decoration-color: #00af00\">4,112</span> │\n",
       "└──────────────────────────────────────┴─────────────────────────────┴─────────────────┘\n",
       "</pre>\n"
      ],
      "text/plain": [
       "┏━━━━━━━━━━━━━━━━━━━━━━━━━━━━━━━━━━━━━━┳━━━━━━━━━━━━━━━━━━━━━━━━━━━━━┳━━━━━━━━━━━━━━━━━┓\n",
       "┃\u001b[1m \u001b[0m\u001b[1mLayer (type)                        \u001b[0m\u001b[1m \u001b[0m┃\u001b[1m \u001b[0m\u001b[1mOutput Shape               \u001b[0m\u001b[1m \u001b[0m┃\u001b[1m \u001b[0m\u001b[1m        Param #\u001b[0m\u001b[1m \u001b[0m┃\n",
       "┡━━━━━━━━━━━━━━━━━━━━━━━━━━━━━━━━━━━━━━╇━━━━━━━━━━━━━━━━━━━━━━━━━━━━━╇━━━━━━━━━━━━━━━━━┩\n",
       "│ flatten_3 (\u001b[38;5;33mFlatten\u001b[0m)                  │ (\u001b[38;5;45mNone\u001b[0m, \u001b[38;5;34m2352\u001b[0m)                │               \u001b[38;5;34m0\u001b[0m │\n",
       "├──────────────────────────────────────┼─────────────────────────────┼─────────────────┤\n",
       "│ dense_7 (\u001b[38;5;33mDense\u001b[0m)                      │ (\u001b[38;5;45mNone\u001b[0m, \u001b[38;5;34m256\u001b[0m)                 │         \u001b[38;5;34m602,368\u001b[0m │\n",
       "├──────────────────────────────────────┼─────────────────────────────┼─────────────────┤\n",
       "│ dense_8 (\u001b[38;5;33mDense\u001b[0m)                      │ (\u001b[38;5;45mNone\u001b[0m, \u001b[38;5;34m256\u001b[0m)                 │          \u001b[38;5;34m65,792\u001b[0m │\n",
       "├──────────────────────────────────────┼─────────────────────────────┼─────────────────┤\n",
       "│ dense_9 (\u001b[38;5;33mDense\u001b[0m)                      │ (\u001b[38;5;45mNone\u001b[0m, \u001b[38;5;34m16\u001b[0m)                  │           \u001b[38;5;34m4,112\u001b[0m │\n",
       "└──────────────────────────────────────┴─────────────────────────────┴─────────────────┘\n"
      ]
     },
     "metadata": {},
     "output_type": "display_data"
    },
    {
     "data": {
      "text/html": [
       "<pre style=\"white-space:pre;overflow-x:auto;line-height:normal;font-family:Menlo,'DejaVu Sans Mono',consolas,'Courier New',monospace\"><span style=\"font-weight: bold\"> Total params: </span><span style=\"color: #00af00; text-decoration-color: #00af00\">672,272</span> (2.56 MB)\n",
       "</pre>\n"
      ],
      "text/plain": [
       "\u001b[1m Total params: \u001b[0m\u001b[38;5;34m672,272\u001b[0m (2.56 MB)\n"
      ]
     },
     "metadata": {},
     "output_type": "display_data"
    },
    {
     "data": {
      "text/html": [
       "<pre style=\"white-space:pre;overflow-x:auto;line-height:normal;font-family:Menlo,'DejaVu Sans Mono',consolas,'Courier New',monospace\"><span style=\"font-weight: bold\"> Trainable params: </span><span style=\"color: #00af00; text-decoration-color: #00af00\">672,272</span> (2.56 MB)\n",
       "</pre>\n"
      ],
      "text/plain": [
       "\u001b[1m Trainable params: \u001b[0m\u001b[38;5;34m672,272\u001b[0m (2.56 MB)\n"
      ]
     },
     "metadata": {},
     "output_type": "display_data"
    },
    {
     "data": {
      "text/html": [
       "<pre style=\"white-space:pre;overflow-x:auto;line-height:normal;font-family:Menlo,'DejaVu Sans Mono',consolas,'Courier New',monospace\"><span style=\"font-weight: bold\"> Non-trainable params: </span><span style=\"color: #00af00; text-decoration-color: #00af00\">0</span> (0.00 B)\n",
       "</pre>\n"
      ],
      "text/plain": [
       "\u001b[1m Non-trainable params: \u001b[0m\u001b[38;5;34m0\u001b[0m (0.00 B)\n"
      ]
     },
     "metadata": {},
     "output_type": "display_data"
    }
   ],
   "source": [
    "INPUT_DIMENSION = (28,28,3)\n",
    "HIDDEN_LAYER_DIMENSION = 256\n",
    "OUTPUT_CLASSES = 16\n",
    "\n",
    "\n",
    "imp_model_2 = tf.keras.Sequential([\n",
    "    tf.keras.layers.Flatten(input_shape=INPUT_DIMENSION),\n",
    "    tf.keras.layers.Dense(HIDDEN_LAYER_DIMENSION, activation='relu'),\n",
    "    tf.keras.layers.Dense(HIDDEN_LAYER_DIMENSION, activation='relu'),\n",
    "    tf.keras.layers.Dense(OUTPUT_CLASSES),\n",
    "    \n",
    "])\n",
    "classs= np.divide(477, arrTypeTrain)\n",
    "print(classs)\n",
    "class_weights_2 = {0:2.36,1:5.68,2:3.22,3:6.72, 4:5.68, 5:2.37,6:2.84, 7:1, 8:15.39, 9:2.41,10:5.42,11:1.77,12:3.14,13:6.36,14:2.29,15:3.59}\n",
    "\n",
    "imp_model_2.summary()"
   ]
  },
  {
   "cell_type": "code",
   "execution_count": 94,
   "metadata": {},
   "outputs": [],
   "source": [
    "imp_model_2.compile(optimizer='SGD', loss=tf.keras.losses.CategoricalCrossentropy(from_logits=True),\n",
    "                   metrics=['categorical_accuracy','f1_score'])\n"
   ]
  },
  {
   "cell_type": "code",
   "execution_count": 95,
   "metadata": {},
   "outputs": [],
   "source": [
    "imp_model_2_history = imp_model_2.fit(train_generator_2, validation_data=validation_generator_2, epochs=50, verbose=0, class_weight=class_weights_2)"
   ]
  },
  {
   "cell_type": "code",
   "execution_count": 96,
   "metadata": {
    "scrolled": false
   },
   "outputs": [
    {
     "name": "stdout",
     "output_type": "stream",
     "text": [
      "\u001b[1m81/81\u001b[0m \u001b[32m━━━━━━━━━━━━━━━━━━━━\u001b[0m\u001b[37m\u001b[0m \u001b[1m2s\u001b[0m 27ms/step - categorical_accuracy: 1.0000 - f1_score: 0.9931 - loss: 0.0125\n",
      "\u001b[1m35/35\u001b[0m \u001b[32m━━━━━━━━━━━━━━━━━━━━\u001b[0m\u001b[37m\u001b[0m \u001b[1m1s\u001b[0m 26ms/step - categorical_accuracy: 0.9679 - f1_score: 0.9541 - loss: 0.1207\n"
     ]
    },
    {
     "data": {
      "image/png": "[encoded data removed]",
      "text/plain": [
       "<Figure size 1000x500 with 2 Axes>"
      ]
     },
     "metadata": {},
     "output_type": "display_data"
    }
   ],
   "source": [
    "imp_model_2.evaluate(train_generator_2)\n",
    "imp_model_2.evaluate(validation_generator_2)\n",
    "\n",
    "plot_learning_curve(imp_model_2_history.history['loss'], imp_model_2_history.history['val_loss'], \n",
    "                    imp_model_2_history.history['categorical_accuracy'], imp_model_2_history.history['val_categorical_accuracy'], \n",
    "                    metric_name='accuracy')"
   ]
  },
  {
   "cell_type": "markdown",
   "metadata": {},
   "source": [
    "## Testing on collected test set"
   ]
  },
  {
   "cell_type": "code",
   "execution_count": 122,
   "metadata": {},
   "outputs": [
    {
     "name": "stdout",
     "output_type": "stream",
     "text": [
      "['Diamond', 'Hex', 'Round', 'Square', 'Triangle']\n"
     ]
    }
   ],
   "source": [
    "#data = pd.read_csv('./CIFAR_Data.csv')\n",
    "dir_list2 = os.listdir('./test_set')\n",
    "\n",
    "print(dir_list2)\n",
    "path2='./test_set/'\n",
    "temparr=[]\n",
    "\n",
    "counter1=1\n",
    "counter2=1\n",
    "\n",
    "\n",
    "for i in dir_list2:\n",
    "    dir_listtemp=os.listdir(path2+i)\n",
    "    if '.DS_Store'in dir_listtemp:\n",
    "        dir_listtemp.remove('.DS_Store')\n",
    "\n",
    "    for j in dir_listtemp:\n",
    "        dir_listtemp2=os.listdir(path2+i+'/'+j)\n",
    "\n",
    "        for k in dir_listtemp2:\n",
    "            temparr.append((path2+i+'/'+j+'/'+k, counter1, counter2))\n",
    "        counter2+=1\n",
    "    counter1+=1\n",
    "    #counter2+=1\n",
    "\n",
    "testdata = np.array(temparr)\n",
    "                #dtype=[(\"a\", \"str\"), (\"b\", \"i4\"), (\"c\", \"i4\")])\n",
    "dfTest = pd.DataFrame(testdata, columns=['Image', 'Form', 'Type'])\n",
    "\n",
    "dfTest.to_csv('trafficsigns_data.csv',index=True, index_label='ID' )        \n",
    "            "
   ]
  },
  {
   "cell_type": "code",
   "execution_count": 123,
   "metadata": {},
   "outputs": [
    {
     "name": "stdout",
     "output_type": "stream",
     "text": [
      "Found 648 validated image filenames belonging to 5 classes.\n",
      "Found 648 validated image filenames belonging to 16 classes.\n"
     ]
    },
    {
     "name": "stderr",
     "output_type": "stream",
     "text": [
      "C:\\Users\\anyone\\anaconda3\\Lib\\site-packages\\keras\\src\\legacy\\preprocessing\\image.py:920: UserWarning: Found 1 invalid image filename(s) in x_col=\"Image\". These filename(s) will be ignored.\n",
      "  warnings.warn(\n",
      "C:\\Users\\anyone\\anaconda3\\Lib\\site-packages\\keras\\src\\legacy\\preprocessing\\image.py:920: UserWarning: Found 1 invalid image filename(s) in x_col=\"Image\". These filename(s) will be ignored.\n",
      "  warnings.warn(\n"
     ]
    }
   ],
   "source": [
    "test_datagen = ImageDataGenerator(rescale=1./255, data_format='channels_last')\n",
    "\n",
    "batch_size = 32\n",
    "\n",
    "test_generator_1 = train_datagen.flow_from_dataframe(\n",
    "        dataframe=dfTest,\n",
    "        directory='./',\n",
    "        x_col=\"Image\",\n",
    "        y_col=\"Form\",\n",
    "        target_size=(28, 28),\n",
    "        batch_size=batch_size,\n",
    "        class_mode='categorical')\n",
    "\n",
    "\n",
    "test_generator_2 = train_datagen.flow_from_dataframe(\n",
    "        dataframe=dfTest,\n",
    "        directory='./',\n",
    "        x_col=\"Image\",\n",
    "        y_col=\"Type\",\n",
    "        target_size=(28, 28),\n",
    "        batch_size=batch_size,\n",
    "        class_mode='categorical')\n"
   ]
  },
  {
   "cell_type": "code",
   "execution_count": 124,
   "metadata": {},
   "outputs": [
    {
     "name": "stdout",
     "output_type": "stream",
     "text": [
      "\r",
      "\u001b[1m 1/21\u001b[0m \u001b[37m━━━━━━━━━━━━━━━━━━━━\u001b[0m \u001b[1m2s\u001b[0m 112ms/step - categorical_accuracy: 0.5625 - f1_score: 0.4215 - loss: 1.6813"
     ]
    },
    {
     "name": "stderr",
     "output_type": "stream",
     "text": [
      "C:\\Users\\anyone\\anaconda3\\Lib\\site-packages\\PIL\\Image.py:981: UserWarning: Palette images with Transparency expressed in bytes should be converted to RGBA images\n",
      "  warnings.warn(\n",
      "C:\\Users\\anyone\\anaconda3\\Lib\\site-packages\\keras\\src\\trainers\\data_adapters\\py_dataset_adapter.py:120: UserWarning: Your `PyDataset` class should call `super().__init__(**kwargs)` in its constructor. `**kwargs` can include `workers`, `use_multiprocessing`, `max_queue_size`. Do not pass these arguments to `fit()`, as they will be ignored.\n",
      "  self._warn_if_super_not_called()\n"
     ]
    },
    {
     "name": "stdout",
     "output_type": "stream",
     "text": [
      "\u001b[1m21/21\u001b[0m \u001b[32m━━━━━━━━━━━━━━━━━━━━\u001b[0m\u001b[37m\u001b[0m \u001b[1m2s\u001b[0m 73ms/step - categorical_accuracy: 0.5678 - f1_score: 0.4529 - loss: 1.5954\n"
     ]
    },
    {
     "data": {
      "text/plain": [
       "[1.6525863409042358,\n",
       " 0.5663580298423767,\n",
       " <tf.Tensor: shape=(5,), dtype=float32, numpy=\n",
       " array([0.47126433, 0.32941172, 0.6797752 , 0.3731343 , 0.47120413],\n",
       "       dtype=float32)>]"
      ]
     },
     "execution_count": 124,
     "metadata": {},
     "output_type": "execute_result"
    }
   ],
   "source": [
    "imp_model.evaluate(test_generator_1)\n"
   ]
  },
  {
   "cell_type": "code",
   "execution_count": 125,
   "metadata": {},
   "outputs": [
    {
     "name": "stdout",
     "output_type": "stream",
     "text": [
      "\u001b[1m21/21\u001b[0m \u001b[32m━━━━━━━━━━━━━━━━━━━━\u001b[0m\u001b[37m\u001b[0m \u001b[1m2s\u001b[0m 69ms/step - categorical_accuracy: 0.4235 - f1_score: 0.3749 - loss: 3.4438\n"
     ]
    },
    {
     "data": {
      "text/plain": [
       "[3.730938196182251,\n",
       " 0.39351850748062134,\n",
       " <tf.Tensor: shape=(16,), dtype=float32, numpy=\n",
       " array([0.47999996, 0.        , 0.13333331, 0.        , 0.33333328,\n",
       "        0.33333328, 0.62068963, 0.44117644, 0.69662917, 0.48407638,\n",
       "        0.2337662 , 0.5192307 , 0.09259258, 0.47887313, 0.23529409,\n",
       "        0.6666666 ], dtype=float32)>]"
      ]
     },
     "execution_count": 125,
     "metadata": {},
     "output_type": "execute_result"
    }
   ],
   "source": [
    "imp_model_2.evaluate(test_generator_2)\n",
    "\n"
   ]
  },
  {
   "cell_type": "code",
   "execution_count": null,
   "metadata": {},
   "outputs": [],
   "source": []
  },
  {
   "cell_type": "code",
   "execution_count": null,
   "metadata": {},
   "outputs": [],
   "source": []
  }
 ],
 "metadata": {
  "kernelspec": {
   "display_name": "Python 3 (ipykernel)",
   "language": "python",
   "name": "python3"
  },
  "language_info": {
   "codemirror_mode": {
    "name": "ipython",
    "version": 3
   },
   "file_extension": ".py",
   "mimetype": "text/x-python",
   "name": "python",
   "nbconvert_exporter": "python",
   "pygments_lexer": "ipython3",
   "version": "3.11.7"
  }
 },
 "nbformat": 4,
 "nbformat_minor": 2
}
