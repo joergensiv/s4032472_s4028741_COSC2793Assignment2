{
 "cells": [
  {
   "cell_type": "code",
   "execution_count": 14,
   "metadata": {},
   "outputs": [],
   "source": [
    "import zipfile\n",
    "import pandas as pd\n",
    "import numpy as np\n",
    "import os\n",
    "with zipfile.ZipFile('./trafficsigns_dataset.zip', 'r') as zip_ref:\n",
    "    zip_ref.extractall('./')"
   ]
  },
  {
   "cell_type": "code",
   "execution_count": 32,
   "metadata": {},
   "outputs": [
    {
     "name": "stdout",
     "output_type": "stream",
     "text": [
      "['diamond', 'hex', 'round', 'square', 'triangle']\n"
     ]
    }
   ],
   "source": [
    "#data = pd.read_csv('./CIFAR_Data.csv')\n",
    "dir_list = os.listdir('./trafficsigns_dataset')\n",
    "dir_list.remove('.DS_Store')\n",
    "dir_list.remove('Readme.txt')\n",
    "\n",
    "print(dir_list)\n",
    "path='./trafficsigns_dataset/'\n",
    "arr=[]\n",
    "\n",
    "counter1=1\n",
    "counter2=1\n",
    "\n",
    "\n",
    "for i in dir_list:\n",
    "    dir_listtemp=os.listdir(path+i)\n",
    "    if '.DS_Store'in dir_listtemp:\n",
    "        dir_listtemp.remove('.DS_Store')\n",
    "\n",
    "    for j in dir_listtemp:\n",
    "        dir_listtemp2=os.listdir(path+i+'/'+j)\n",
    "\n",
    "        for k in dir_listtemp2:\n",
    "            arr.append((k, counter1, counter2))\n",
    "        counter2+=1\n",
    "    counter1+=1\n",
    "    #counter2+=1\n",
    "\n",
    "data = np.array(arr)\n",
    "                #dtype=[(\"a\", \"str\"), (\"b\", \"i4\"), (\"c\", \"i4\")])\n",
    "df3 = pd.DataFrame(data, columns=['Image', 'Form', 'Type'])\n",
    "\n",
    "df3.to_csv('trafficsigns_data.csv',index=True, index_label='ID' )        \n",
    "            \n",
    "\n",
    "\n",
    "\n"
   ]
  },
  {
   "cell_type": "code",
   "execution_count": null,
   "metadata": {},
   "outputs": [],
   "source": []
  }
 ],
 "metadata": {
  "kernelspec": {
   "display_name": "Python 3",
   "language": "python",
   "name": "python3"
  },
  "language_info": {
   "codemirror_mode": {
    "name": "ipython",
    "version": 3
   },
   "file_extension": ".py",
   "mimetype": "text/x-python",
   "name": "python",
   "nbconvert_exporter": "python",
   "pygments_lexer": "ipython3",
   "version": "3.8.8"
  }
 },
 "nbformat": 4,
 "nbformat_minor": 2
}
